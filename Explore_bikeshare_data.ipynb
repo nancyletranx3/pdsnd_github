{
 "cells": [
  {
   "cell_type": "markdown",
   "metadata": {},
   "source": [
    "### Explore Bike Share Data\n",
    "\n",
    "For this project, your goal is to ask and answer three questions about the available bikeshare data from Washington, Chicago, and New York.  This notebook can be submitted directly through the workspace when you are confident in your results.\n",
    "\n",
    "You will be graded against the project [Rubric](https://review.udacity.com/#!/rubrics/2508/view) by a mentor after you have submitted.  To get you started, you can use the template below, but feel free to be creative in your solutions!"
   ]
  },
  {
   "cell_type": "code",
   "execution_count": 2,
   "metadata": {},
   "outputs": [],
   "source": [
    "ny = read.csv('new_york_city.csv')\n",
    "wash = read.csv('washington.csv')\n",
    "chi = read.csv('chicago.csv')"
   ]
  },
  {
   "cell_type": "code",
   "execution_count": 3,
   "metadata": {},
   "outputs": [
    {
     "data": {
      "text/html": [
       "<table>\n",
       "<thead><tr><th scope=col>X</th><th scope=col>Start.Time</th><th scope=col>End.Time</th><th scope=col>Trip.Duration</th><th scope=col>Start.Station</th><th scope=col>End.Station</th><th scope=col>User.Type</th><th scope=col>Gender</th><th scope=col>Birth.Year</th></tr></thead>\n",
       "<tbody>\n",
       "\t<tr><td>5688089                                       </td><td>2017-06-11 14:55:05                           </td><td>2017-06-11 15:08:21                           </td><td> 795                                          </td><td>Suffolk St &amp; Stanton St                   </td><td>W Broadway &amp; Spring St                    </td><td>Subscriber                                    </td><td><span style=white-space:pre-wrap>Male  </span></td><td>1998                                          </td></tr>\n",
       "\t<tr><td>4096714                                                           </td><td>2017-05-11 15:30:11                                               </td><td>2017-05-11 15:41:43                                               </td><td> 692                                                              </td><td>Lexington Ave &amp; E 63 St                                       </td><td><span style=white-space:pre-wrap>1 Ave &amp; E 78 St       </span></td><td>Subscriber                                                        </td><td><span style=white-space:pre-wrap>Male  </span>                    </td><td>1981                                                              </td></tr>\n",
       "\t<tr><td>2173887                                                            </td><td>2017-03-29 13:26:26                                                </td><td>2017-03-29 13:48:31                                                </td><td>1325                                                               </td><td><span style=white-space:pre-wrap>1 Pl &amp; Clinton St      </span></td><td><span style=white-space:pre-wrap>Henry St &amp; Degraw St  </span> </td><td>Subscriber                                                         </td><td><span style=white-space:pre-wrap>Male  </span>                     </td><td>1987                                                               </td></tr>\n",
       "\t<tr><td>3945638                                                            </td><td>2017-05-08 19:47:18                                                </td><td>2017-05-08 19:59:01                                                </td><td> 703                                                               </td><td><span style=white-space:pre-wrap>Barrow St &amp; Hudson St  </span></td><td><span style=white-space:pre-wrap>W 20 St &amp; 8 Ave       </span> </td><td>Subscriber                                                         </td><td>Female                                                             </td><td>1986                                                               </td></tr>\n",
       "\t<tr><td>6208972                                                            </td><td>2017-06-21 07:49:16                                                </td><td>2017-06-21 07:54:46                                                </td><td> 329                                                               </td><td><span style=white-space:pre-wrap>1 Ave &amp; E 44 St        </span></td><td><span style=white-space:pre-wrap>E 53 St &amp; 3 Ave       </span> </td><td>Subscriber                                                         </td><td><span style=white-space:pre-wrap>Male  </span>                     </td><td>1992                                                               </td></tr>\n",
       "\t<tr><td>1285652                                                            </td><td>2017-02-22 18:55:24                                                </td><td>2017-02-22 19:12:03                                                </td><td> 998                                                               </td><td><span style=white-space:pre-wrap>State St &amp; Smith St    </span></td><td><span style=white-space:pre-wrap>Bond St &amp; Fulton St   </span> </td><td>Subscriber                                                         </td><td><span style=white-space:pre-wrap>Male  </span>                     </td><td>1986                                                               </td></tr>\n",
       "</tbody>\n",
       "</table>\n"
      ],
      "text/latex": [
       "\\begin{tabular}{r|lllllllll}\n",
       " X & Start.Time & End.Time & Trip.Duration & Start.Station & End.Station & User.Type & Gender & Birth.Year\\\\\n",
       "\\hline\n",
       "\t 5688089                   & 2017-06-11 14:55:05       & 2017-06-11 15:08:21       &  795                      & Suffolk St \\& Stanton St & W Broadway \\& Spring St  & Subscriber                & Male                      & 1998                     \\\\\n",
       "\t 4096714                   & 2017-05-11 15:30:11       & 2017-05-11 15:41:43       &  692                      & Lexington Ave \\& E 63 St & 1 Ave \\& E 78 St         & Subscriber                & Male                      & 1981                     \\\\\n",
       "\t 2173887                   & 2017-03-29 13:26:26       & 2017-03-29 13:48:31       & 1325                      & 1 Pl \\& Clinton St       & Henry St \\& Degraw St    & Subscriber                & Male                      & 1987                     \\\\\n",
       "\t 3945638                   & 2017-05-08 19:47:18       & 2017-05-08 19:59:01       &  703                      & Barrow St \\& Hudson St   & W 20 St \\& 8 Ave         & Subscriber                & Female                    & 1986                     \\\\\n",
       "\t 6208972                   & 2017-06-21 07:49:16       & 2017-06-21 07:54:46       &  329                      & 1 Ave \\& E 44 St         & E 53 St \\& 3 Ave         & Subscriber                & Male                      & 1992                     \\\\\n",
       "\t 1285652                   & 2017-02-22 18:55:24       & 2017-02-22 19:12:03       &  998                      & State St \\& Smith St     & Bond St \\& Fulton St     & Subscriber                & Male                      & 1986                     \\\\\n",
       "\\end{tabular}\n"
      ],
      "text/markdown": [
       "\n",
       "| X | Start.Time | End.Time | Trip.Duration | Start.Station | End.Station | User.Type | Gender | Birth.Year |\n",
       "|---|---|---|---|---|---|---|---|---|\n",
       "| 5688089                 | 2017-06-11 14:55:05     | 2017-06-11 15:08:21     |  795                    | Suffolk St & Stanton St | W Broadway & Spring St  | Subscriber              | Male                    | 1998                    |\n",
       "| 4096714                 | 2017-05-11 15:30:11     | 2017-05-11 15:41:43     |  692                    | Lexington Ave & E 63 St | 1 Ave & E 78 St         | Subscriber              | Male                    | 1981                    |\n",
       "| 2173887                 | 2017-03-29 13:26:26     | 2017-03-29 13:48:31     | 1325                    | 1 Pl & Clinton St       | Henry St & Degraw St    | Subscriber              | Male                    | 1987                    |\n",
       "| 3945638                 | 2017-05-08 19:47:18     | 2017-05-08 19:59:01     |  703                    | Barrow St & Hudson St   | W 20 St & 8 Ave         | Subscriber              | Female                  | 1986                    |\n",
       "| 6208972                 | 2017-06-21 07:49:16     | 2017-06-21 07:54:46     |  329                    | 1 Ave & E 44 St         | E 53 St & 3 Ave         | Subscriber              | Male                    | 1992                    |\n",
       "| 1285652                 | 2017-02-22 18:55:24     | 2017-02-22 19:12:03     |  998                    | State St & Smith St     | Bond St & Fulton St     | Subscriber              | Male                    | 1986                    |\n",
       "\n"
      ],
      "text/plain": [
       "  X       Start.Time          End.Time            Trip.Duration\n",
       "1 5688089 2017-06-11 14:55:05 2017-06-11 15:08:21  795         \n",
       "2 4096714 2017-05-11 15:30:11 2017-05-11 15:41:43  692         \n",
       "3 2173887 2017-03-29 13:26:26 2017-03-29 13:48:31 1325         \n",
       "4 3945638 2017-05-08 19:47:18 2017-05-08 19:59:01  703         \n",
       "5 6208972 2017-06-21 07:49:16 2017-06-21 07:54:46  329         \n",
       "6 1285652 2017-02-22 18:55:24 2017-02-22 19:12:03  998         \n",
       "  Start.Station           End.Station            User.Type  Gender Birth.Year\n",
       "1 Suffolk St & Stanton St W Broadway & Spring St Subscriber Male   1998      \n",
       "2 Lexington Ave & E 63 St 1 Ave & E 78 St        Subscriber Male   1981      \n",
       "3 1 Pl & Clinton St       Henry St & Degraw St   Subscriber Male   1987      \n",
       "4 Barrow St & Hudson St   W 20 St & 8 Ave        Subscriber Female 1986      \n",
       "5 1 Ave & E 44 St         E 53 St & 3 Ave        Subscriber Male   1992      \n",
       "6 State St & Smith St     Bond St & Fulton St    Subscriber Male   1986      "
      ]
     },
     "metadata": {},
     "output_type": "display_data"
    }
   ],
   "source": [
    "head(ny)"
   ]
  },
  {
   "cell_type": "code",
   "execution_count": 4,
   "metadata": {},
   "outputs": [
    {
     "data": {
      "text/html": [
       "<table>\n",
       "<thead><tr><th scope=col>X</th><th scope=col>Start.Time</th><th scope=col>End.Time</th><th scope=col>Trip.Duration</th><th scope=col>Start.Station</th><th scope=col>End.Station</th><th scope=col>User.Type</th></tr></thead>\n",
       "<tbody>\n",
       "\t<tr><td>1621326                                                                                        </td><td>2017-06-21 08:36:34                                                                            </td><td>2017-06-21 08:44:43                                                                            </td><td> 489.066                                                                                       </td><td><span style=white-space:pre-wrap>14th &amp; Belmont St NW                       </span>        </td><td><span style=white-space:pre-wrap>15th &amp; K St NW                                     </span></td><td>Subscriber                                                                                     </td></tr>\n",
       "\t<tr><td> 482740                                                                                        </td><td>2017-03-11 10:40:00                                                                            </td><td>2017-03-11 10:46:00                                                                            </td><td> 402.549                                                                                       </td><td><span style=white-space:pre-wrap>Yuma St &amp; Tenley Circle NW                 </span>        </td><td><span style=white-space:pre-wrap>Connecticut Ave &amp; Yuma St NW                       </span></td><td>Subscriber                                                                                     </td></tr>\n",
       "\t<tr><td>1330037                                                                                        </td><td>2017-05-30 01:02:59                                                                            </td><td>2017-05-30 01:13:37                                                                            </td><td> 637.251                                                                                       </td><td><span style=white-space:pre-wrap>17th St &amp; Massachusetts Ave NW             </span>        </td><td><span style=white-space:pre-wrap>5th &amp; K St NW                                      </span></td><td>Subscriber                                                                                     </td></tr>\n",
       "\t<tr><td> 665458                                                                                        </td><td>2017-04-02 07:48:35                                                                            </td><td>2017-04-02 08:19:03                                                                            </td><td>1827.341                                                                                       </td><td><span style=white-space:pre-wrap>Constitution Ave &amp; 2nd St NW/DOL           </span>        </td><td><span style=white-space:pre-wrap>M St &amp; Pennsylvania Ave NW                         </span></td><td><span style=white-space:pre-wrap>Customer  </span>                                             </td></tr>\n",
       "\t<tr><td>1481135                                                                                        </td><td>2017-06-10 08:36:28                                                                            </td><td>2017-06-10 09:02:17                                                                            </td><td>1549.427                                                                                       </td><td>Henry Bacon Dr &amp; Lincoln Memorial Circle NW                                                </td><td><span style=white-space:pre-wrap>Maine Ave &amp; 7th St SW                              </span></td><td>Subscriber                                                                                     </td></tr>\n",
       "\t<tr><td>1148202                                                                                </td><td>2017-05-14 07:18:18                                                                    </td><td>2017-05-14 07:24:56                                                                    </td><td> 398.000                                                                               </td><td><span style=white-space:pre-wrap>1st &amp; K St SE                              </span></td><td>Eastern Market Metro / Pennsylvania Ave &amp; 7th St SE                                </td><td>Subscriber                                                                             </td></tr>\n",
       "</tbody>\n",
       "</table>\n"
      ],
      "text/latex": [
       "\\begin{tabular}{r|lllllll}\n",
       " X & Start.Time & End.Time & Trip.Duration & Start.Station & End.Station & User.Type\\\\\n",
       "\\hline\n",
       "\t 1621326                                               & 2017-06-21 08:36:34                                   & 2017-06-21 08:44:43                                   &  489.066                                              & 14th \\& Belmont St NW                                & 15th \\& K St NW                                      & Subscriber                                           \\\\\n",
       "\t  482740                                               & 2017-03-11 10:40:00                                   & 2017-03-11 10:46:00                                   &  402.549                                              & Yuma St \\& Tenley Circle NW                          & Connecticut Ave \\& Yuma St NW                        & Subscriber                                           \\\\\n",
       "\t 1330037                                               & 2017-05-30 01:02:59                                   & 2017-05-30 01:13:37                                   &  637.251                                              & 17th St \\& Massachusetts Ave NW                      & 5th \\& K St NW                                       & Subscriber                                           \\\\\n",
       "\t  665458                                               & 2017-04-02 07:48:35                                   & 2017-04-02 08:19:03                                   & 1827.341                                              & Constitution Ave \\& 2nd St NW/DOL                    & M St \\& Pennsylvania Ave NW                          & Customer                                             \\\\\n",
       "\t 1481135                                               & 2017-06-10 08:36:28                                   & 2017-06-10 09:02:17                                   & 1549.427                                              & Henry Bacon Dr \\& Lincoln Memorial Circle NW         & Maine Ave \\& 7th St SW                               & Subscriber                                           \\\\\n",
       "\t 1148202                                               & 2017-05-14 07:18:18                                   & 2017-05-14 07:24:56                                   &  398.000                                              & 1st \\& K St SE                                       & Eastern Market Metro / Pennsylvania Ave \\& 7th St SE & Subscriber                                           \\\\\n",
       "\\end{tabular}\n"
      ],
      "text/markdown": [
       "\n",
       "| X | Start.Time | End.Time | Trip.Duration | Start.Station | End.Station | User.Type |\n",
       "|---|---|---|---|---|---|---|\n",
       "| 1621326                                             | 2017-06-21 08:36:34                                 | 2017-06-21 08:44:43                                 |  489.066                                            | 14th & Belmont St NW                                | 15th & K St NW                                      | Subscriber                                          |\n",
       "|  482740                                             | 2017-03-11 10:40:00                                 | 2017-03-11 10:46:00                                 |  402.549                                            | Yuma St & Tenley Circle NW                          | Connecticut Ave & Yuma St NW                        | Subscriber                                          |\n",
       "| 1330037                                             | 2017-05-30 01:02:59                                 | 2017-05-30 01:13:37                                 |  637.251                                            | 17th St & Massachusetts Ave NW                      | 5th & K St NW                                       | Subscriber                                          |\n",
       "|  665458                                             | 2017-04-02 07:48:35                                 | 2017-04-02 08:19:03                                 | 1827.341                                            | Constitution Ave & 2nd St NW/DOL                    | M St & Pennsylvania Ave NW                          | Customer                                            |\n",
       "| 1481135                                             | 2017-06-10 08:36:28                                 | 2017-06-10 09:02:17                                 | 1549.427                                            | Henry Bacon Dr & Lincoln Memorial Circle NW         | Maine Ave & 7th St SW                               | Subscriber                                          |\n",
       "| 1148202                                             | 2017-05-14 07:18:18                                 | 2017-05-14 07:24:56                                 |  398.000                                            | 1st & K St SE                                       | Eastern Market Metro / Pennsylvania Ave & 7th St SE | Subscriber                                          |\n",
       "\n"
      ],
      "text/plain": [
       "  X       Start.Time          End.Time            Trip.Duration\n",
       "1 1621326 2017-06-21 08:36:34 2017-06-21 08:44:43  489.066     \n",
       "2  482740 2017-03-11 10:40:00 2017-03-11 10:46:00  402.549     \n",
       "3 1330037 2017-05-30 01:02:59 2017-05-30 01:13:37  637.251     \n",
       "4  665458 2017-04-02 07:48:35 2017-04-02 08:19:03 1827.341     \n",
       "5 1481135 2017-06-10 08:36:28 2017-06-10 09:02:17 1549.427     \n",
       "6 1148202 2017-05-14 07:18:18 2017-05-14 07:24:56  398.000     \n",
       "  Start.Station                              \n",
       "1 14th & Belmont St NW                       \n",
       "2 Yuma St & Tenley Circle NW                 \n",
       "3 17th St & Massachusetts Ave NW             \n",
       "4 Constitution Ave & 2nd St NW/DOL           \n",
       "5 Henry Bacon Dr & Lincoln Memorial Circle NW\n",
       "6 1st & K St SE                              \n",
       "  End.Station                                         User.Type \n",
       "1 15th & K St NW                                      Subscriber\n",
       "2 Connecticut Ave & Yuma St NW                        Subscriber\n",
       "3 5th & K St NW                                       Subscriber\n",
       "4 M St & Pennsylvania Ave NW                          Customer  \n",
       "5 Maine Ave & 7th St SW                               Subscriber\n",
       "6 Eastern Market Metro / Pennsylvania Ave & 7th St SE Subscriber"
      ]
     },
     "metadata": {},
     "output_type": "display_data"
    }
   ],
   "source": [
    "head(wash)"
   ]
  },
  {
   "cell_type": "code",
   "execution_count": 5,
   "metadata": {},
   "outputs": [
    {
     "data": {
      "text/html": [
       "<table>\n",
       "<thead><tr><th scope=col>X</th><th scope=col>Start.Time</th><th scope=col>End.Time</th><th scope=col>Trip.Duration</th><th scope=col>Start.Station</th><th scope=col>End.Station</th><th scope=col>User.Type</th><th scope=col>Gender</th><th scope=col>Birth.Year</th></tr></thead>\n",
       "<tbody>\n",
       "\t<tr><td>1423854                                                                  </td><td>2017-06-23 15:09:32                                                      </td><td>2017-06-23 15:14:53                                                      </td><td> 321                                                                     </td><td><span style=white-space:pre-wrap>Wood St &amp; Hubbard St         </span></td><td><span style=white-space:pre-wrap>Damen Ave &amp; Chicago Ave     </span> </td><td>Subscriber                                                               </td><td><span style=white-space:pre-wrap>Male  </span>                           </td><td>1992                                                                     </td></tr>\n",
       "\t<tr><td> 955915                                                              </td><td>2017-05-25 18:19:03                                                  </td><td>2017-05-25 18:45:53                                                  </td><td>1610                                                                 </td><td><span style=white-space:pre-wrap>Theater on the Lake          </span></td><td>Sheffield Ave &amp; Waveland Ave                                     </td><td>Subscriber                                                           </td><td>Female                                                               </td><td>1992                                                                 </td></tr>\n",
       "\t<tr><td><span style=white-space:pre-wrap>   9031</span>                          </td><td>2017-01-04 08:27:49                                                      </td><td>2017-01-04 08:34:45                                                      </td><td> 416                                                                     </td><td><span style=white-space:pre-wrap>May St &amp; Taylor St           </span></td><td><span style=white-space:pre-wrap>Wood St &amp; Taylor St         </span> </td><td>Subscriber                                                               </td><td><span style=white-space:pre-wrap>Male  </span>                           </td><td>1981                                                                     </td></tr>\n",
       "\t<tr><td> 304487                                       </td><td>2017-03-06 13:49:38                           </td><td>2017-03-06 13:55:28                           </td><td> 350                                          </td><td>Christiana Ave &amp; Lawrence Ave             </td><td>St. Louis Ave &amp; Balmoral Ave              </td><td>Subscriber                                    </td><td><span style=white-space:pre-wrap>Male  </span></td><td>1986                                          </td></tr>\n",
       "\t<tr><td><span style=white-space:pre-wrap>  45207</span>                          </td><td>2017-01-17 14:53:07                                                      </td><td>2017-01-17 15:02:01                                                      </td><td> 534                                                                     </td><td><span style=white-space:pre-wrap>Clark St &amp; Randolph St       </span></td><td>Desplaines St &amp; Jackson Blvd                                         </td><td>Subscriber                                                               </td><td><span style=white-space:pre-wrap>Male  </span>                           </td><td>1975                                                                     </td></tr>\n",
       "\t<tr><td>1473887                                                                 </td><td>2017-06-26 09:01:20                                                     </td><td>2017-06-26 09:11:06                                                     </td><td> 586                                                                    </td><td>Clinton St &amp; Washington Blvd                                        </td><td><span style=white-space:pre-wrap>Canal St &amp; Taylor St        </span></td><td>Subscriber                                                              </td><td><span style=white-space:pre-wrap>Male  </span>                          </td><td>1990                                                                    </td></tr>\n",
       "</tbody>\n",
       "</table>\n"
      ],
      "text/latex": [
       "\\begin{tabular}{r|lllllllll}\n",
       " X & Start.Time & End.Time & Trip.Duration & Start.Station & End.Station & User.Type & Gender & Birth.Year\\\\\n",
       "\\hline\n",
       "\t 1423854                         & 2017-06-23 15:09:32             & 2017-06-23 15:14:53             &  321                            & Wood St \\& Hubbard St          & Damen Ave \\& Chicago Ave       & Subscriber                      & Male                            & 1992                           \\\\\n",
       "\t  955915                         & 2017-05-25 18:19:03             & 2017-05-25 18:45:53             & 1610                            & Theater on the Lake             & Sheffield Ave \\& Waveland Ave  & Subscriber                      & Female                          & 1992                           \\\\\n",
       "\t    9031                         & 2017-01-04 08:27:49             & 2017-01-04 08:34:45             &  416                            & May St \\& Taylor St            & Wood St \\& Taylor St           & Subscriber                      & Male                            & 1981                           \\\\\n",
       "\t  304487                         & 2017-03-06 13:49:38             & 2017-03-06 13:55:28             &  350                            & Christiana Ave \\& Lawrence Ave & St. Louis Ave \\& Balmoral Ave  & Subscriber                      & Male                            & 1986                           \\\\\n",
       "\t   45207                         & 2017-01-17 14:53:07             & 2017-01-17 15:02:01             &  534                            & Clark St \\& Randolph St        & Desplaines St \\& Jackson Blvd  & Subscriber                      & Male                            & 1975                           \\\\\n",
       "\t 1473887                         & 2017-06-26 09:01:20             & 2017-06-26 09:11:06             &  586                            & Clinton St \\& Washington Blvd  & Canal St \\& Taylor St          & Subscriber                      & Male                            & 1990                           \\\\\n",
       "\\end{tabular}\n"
      ],
      "text/markdown": [
       "\n",
       "| X | Start.Time | End.Time | Trip.Duration | Start.Station | End.Station | User.Type | Gender | Birth.Year |\n",
       "|---|---|---|---|---|---|---|---|---|\n",
       "| 1423854                       | 2017-06-23 15:09:32           | 2017-06-23 15:14:53           |  321                          | Wood St & Hubbard St          | Damen Ave & Chicago Ave       | Subscriber                    | Male                          | 1992                          |\n",
       "|  955915                       | 2017-05-25 18:19:03           | 2017-05-25 18:45:53           | 1610                          | Theater on the Lake           | Sheffield Ave & Waveland Ave  | Subscriber                    | Female                        | 1992                          |\n",
       "|    9031                       | 2017-01-04 08:27:49           | 2017-01-04 08:34:45           |  416                          | May St & Taylor St            | Wood St & Taylor St           | Subscriber                    | Male                          | 1981                          |\n",
       "|  304487                       | 2017-03-06 13:49:38           | 2017-03-06 13:55:28           |  350                          | Christiana Ave & Lawrence Ave | St. Louis Ave & Balmoral Ave  | Subscriber                    | Male                          | 1986                          |\n",
       "|   45207                       | 2017-01-17 14:53:07           | 2017-01-17 15:02:01           |  534                          | Clark St & Randolph St        | Desplaines St & Jackson Blvd  | Subscriber                    | Male                          | 1975                          |\n",
       "| 1473887                       | 2017-06-26 09:01:20           | 2017-06-26 09:11:06           |  586                          | Clinton St & Washington Blvd  | Canal St & Taylor St          | Subscriber                    | Male                          | 1990                          |\n",
       "\n"
      ],
      "text/plain": [
       "  X       Start.Time          End.Time            Trip.Duration\n",
       "1 1423854 2017-06-23 15:09:32 2017-06-23 15:14:53  321         \n",
       "2  955915 2017-05-25 18:19:03 2017-05-25 18:45:53 1610         \n",
       "3    9031 2017-01-04 08:27:49 2017-01-04 08:34:45  416         \n",
       "4  304487 2017-03-06 13:49:38 2017-03-06 13:55:28  350         \n",
       "5   45207 2017-01-17 14:53:07 2017-01-17 15:02:01  534         \n",
       "6 1473887 2017-06-26 09:01:20 2017-06-26 09:11:06  586         \n",
       "  Start.Station                 End.Station                  User.Type  Gender\n",
       "1 Wood St & Hubbard St          Damen Ave & Chicago Ave      Subscriber Male  \n",
       "2 Theater on the Lake           Sheffield Ave & Waveland Ave Subscriber Female\n",
       "3 May St & Taylor St            Wood St & Taylor St          Subscriber Male  \n",
       "4 Christiana Ave & Lawrence Ave St. Louis Ave & Balmoral Ave Subscriber Male  \n",
       "5 Clark St & Randolph St        Desplaines St & Jackson Blvd Subscriber Male  \n",
       "6 Clinton St & Washington Blvd  Canal St & Taylor St         Subscriber Male  \n",
       "  Birth.Year\n",
       "1 1992      \n",
       "2 1992      \n",
       "3 1981      \n",
       "4 1986      \n",
       "5 1975      \n",
       "6 1990      "
      ]
     },
     "metadata": {},
     "output_type": "display_data"
    }
   ],
   "source": [
    "head(chi)"
   ]
  },
  {
   "cell_type": "markdown",
   "metadata": {},
   "source": [
    "### Question 1\n",
    "\n",
    "\n",
    "What is the most common month in Chicago?"
   ]
  },
  {
   "cell_type": "code",
   "execution_count": 6,
   "metadata": {},
   "outputs": [
    {
     "data": {
      "text/html": [
       "<table>\n",
       "<thead><tr><th scope=col>X</th><th scope=col>Start.Time</th><th scope=col>End.Time</th><th scope=col>Trip.Duration</th><th scope=col>Start.Station</th><th scope=col>End.Station</th><th scope=col>User.Type</th><th scope=col>Gender</th><th scope=col>Birth.Year</th></tr></thead>\n",
       "<tbody>\n",
       "\t<tr><td>1423854                                                                  </td><td>2017-06-23 15:09:32                                                      </td><td>2017-06-23 15:14:53                                                      </td><td> 321                                                                     </td><td><span style=white-space:pre-wrap>Wood St &amp; Hubbard St         </span></td><td><span style=white-space:pre-wrap>Damen Ave &amp; Chicago Ave     </span> </td><td>Subscriber                                                               </td><td><span style=white-space:pre-wrap>Male  </span>                           </td><td>1992                                                                     </td></tr>\n",
       "\t<tr><td> 955915                                                              </td><td>2017-05-25 18:19:03                                                  </td><td>2017-05-25 18:45:53                                                  </td><td>1610                                                                 </td><td><span style=white-space:pre-wrap>Theater on the Lake          </span></td><td>Sheffield Ave &amp; Waveland Ave                                     </td><td>Subscriber                                                           </td><td>Female                                                               </td><td>1992                                                                 </td></tr>\n",
       "\t<tr><td><span style=white-space:pre-wrap>   9031</span>                          </td><td>2017-01-04 08:27:49                                                      </td><td>2017-01-04 08:34:45                                                      </td><td> 416                                                                     </td><td><span style=white-space:pre-wrap>May St &amp; Taylor St           </span></td><td><span style=white-space:pre-wrap>Wood St &amp; Taylor St         </span> </td><td>Subscriber                                                               </td><td><span style=white-space:pre-wrap>Male  </span>                           </td><td>1981                                                                     </td></tr>\n",
       "\t<tr><td> 304487                                       </td><td>2017-03-06 13:49:38                           </td><td>2017-03-06 13:55:28                           </td><td> 350                                          </td><td>Christiana Ave &amp; Lawrence Ave             </td><td>St. Louis Ave &amp; Balmoral Ave              </td><td>Subscriber                                    </td><td><span style=white-space:pre-wrap>Male  </span></td><td>1986                                          </td></tr>\n",
       "\t<tr><td><span style=white-space:pre-wrap>  45207</span>                          </td><td>2017-01-17 14:53:07                                                      </td><td>2017-01-17 15:02:01                                                      </td><td> 534                                                                     </td><td><span style=white-space:pre-wrap>Clark St &amp; Randolph St       </span></td><td>Desplaines St &amp; Jackson Blvd                                         </td><td>Subscriber                                                               </td><td><span style=white-space:pre-wrap>Male  </span>                           </td><td>1975                                                                     </td></tr>\n",
       "\t<tr><td>1473887                                                                 </td><td>2017-06-26 09:01:20                                                     </td><td>2017-06-26 09:11:06                                                     </td><td> 586                                                                    </td><td>Clinton St &amp; Washington Blvd                                        </td><td><span style=white-space:pre-wrap>Canal St &amp; Taylor St        </span></td><td>Subscriber                                                              </td><td><span style=white-space:pre-wrap>Male  </span>                          </td><td>1990                                                                    </td></tr>\n",
       "</tbody>\n",
       "</table>\n"
      ],
      "text/latex": [
       "\\begin{tabular}{r|lllllllll}\n",
       " X & Start.Time & End.Time & Trip.Duration & Start.Station & End.Station & User.Type & Gender & Birth.Year\\\\\n",
       "\\hline\n",
       "\t 1423854                         & 2017-06-23 15:09:32             & 2017-06-23 15:14:53             &  321                            & Wood St \\& Hubbard St          & Damen Ave \\& Chicago Ave       & Subscriber                      & Male                            & 1992                           \\\\\n",
       "\t  955915                         & 2017-05-25 18:19:03             & 2017-05-25 18:45:53             & 1610                            & Theater on the Lake             & Sheffield Ave \\& Waveland Ave  & Subscriber                      & Female                          & 1992                          \\\\\n",
       "\t    9031                         & 2017-01-04 08:27:49             & 2017-01-04 08:34:45             &  416                            & May St \\& Taylor St            & Wood St \\& Taylor St           & Subscriber                      & Male                            & 1981                           \\\\\n",
       "\t  304487                         & 2017-03-06 13:49:38             & 2017-03-06 13:55:28             &  350                            & Christiana Ave \\& Lawrence Ave & St. Louis Ave \\& Balmoral Ave  & Subscriber                      & Male                            & 1986                           \\\\\n",
       "\t   45207                         & 2017-01-17 14:53:07             & 2017-01-17 15:02:01             &  534                            & Clark St \\& Randolph St        & Desplaines St \\& Jackson Blvd  & Subscriber                      & Male                            & 1975                           \\\\\n",
       "\t 1473887                         & 2017-06-26 09:01:20             & 2017-06-26 09:11:06             &  586                            & Clinton St \\& Washington Blvd  & Canal St \\& Taylor St          & Subscriber                      & Male                            & 1990                           \\\\\n",
       "\\end{tabular}\n"
      ],
      "text/markdown": [
       "\n",
       "| X | Start.Time | End.Time | Trip.Duration | Start.Station | End.Station | User.Type | Gender | Birth.Year |\n",
       "|---|---|---|---|---|---|---|---|---|\n",
       "| 1423854                       | 2017-06-23 15:09:32           | 2017-06-23 15:14:53           |  321                          | Wood St & Hubbard St          | Damen Ave & Chicago Ave       | Subscriber                    | Male                          | 1992                          |\n",
       "|  955915                       | 2017-05-25 18:19:03           | 2017-05-25 18:45:53           | 1610                          | Theater on the Lake           | Sheffield Ave & Waveland Ave  | Subscriber                    | Female                        | 1992                          |\n",
       "|    9031                       | 2017-01-04 08:27:49           | 2017-01-04 08:34:45           |  416                          | May St & Taylor St            | Wood St & Taylor St           | Subscriber                    | Male                          | 1981                          |\n",
       "|  304487                       | 2017-03-06 13:49:38           | 2017-03-06 13:55:28           |  350                          | Christiana Ave & Lawrence Ave | St. Louis Ave & Balmoral Ave  | Subscriber                    | Male                          | 1986                          |\n",
       "|   45207                       | 2017-01-17 14:53:07           | 2017-01-17 15:02:01           |  534                          | Clark St & Randolph St        | Desplaines St & Jackson Blvd  | Subscriber                    | Male                          | 1975                          |\n",
       "| 1473887                       | 2017-06-26 09:01:20           | 2017-06-26 09:11:06           |  586                          | Clinton St & Washington Blvd  | Canal St & Taylor St          | Subscriber                    | Male                          | 1990                          |\n",
       "\n"
      ],
      "text/plain": [
       "  X       Start.Time          End.Time            Trip.Duration\n",
       "1 1423854 2017-06-23 15:09:32 2017-06-23 15:14:53  321         \n",
       "2  955915 2017-05-25 18:19:03 2017-05-25 18:45:53 1610         \n",
       "3    9031 2017-01-04 08:27:49 2017-01-04 08:34:45  416         \n",
       "4  304487 2017-03-06 13:49:38 2017-03-06 13:55:28  350         \n",
       "5   45207 2017-01-17 14:53:07 2017-01-17 15:02:01  534         \n",
       "6 1473887 2017-06-26 09:01:20 2017-06-26 09:11:06  586         \n",
       "  Start.Station                 End.Station                  User.Type  Gender\n",
       "1 Wood St & Hubbard St          Damen Ave & Chicago Ave      Subscriber Male  \n",
       "2 Theater on the Lake           Sheffield Ave & Waveland Ave Subscriber Female\n",
       "3 May St & Taylor St            Wood St & Taylor St          Subscriber Male  \n",
       "4 Christiana Ave & Lawrence Ave St. Louis Ave & Balmoral Ave Subscriber Male  \n",
       "5 Clark St & Randolph St        Desplaines St & Jackson Blvd Subscriber Male  \n",
       "6 Clinton St & Washington Blvd  Canal St & Taylor St         Subscriber Male  \n",
       "  Birth.Year\n",
       "1 1992      \n",
       "2 1992      \n",
       "3 1981      \n",
       "4 1986      \n",
       "5 1975      \n",
       "6 1990      "
      ]
     },
     "metadata": {},
     "output_type": "display_data"
    },
    {
     "data": {
      "text/html": [
       "<table>\n",
       "<thead><tr><th></th><th scope=col>X</th><th scope=col>Start.Time</th><th scope=col>End.Time</th><th scope=col>Trip.Duration</th><th scope=col>Start.Station</th><th scope=col>End.Station</th><th scope=col>User.Type</th><th scope=col>Gender</th><th scope=col>Birth.Year</th></tr></thead>\n",
       "<tbody>\n",
       "\t<tr><th scope=row>8625</th><td> 397518                         </td><td>2017-03-24 16:52:16             </td><td>2017-03-24 16:57:57             </td><td> 341                            </td><td>Southport Ave &amp; Waveland Ave</td><td>Southport Ave &amp; Waveland Ave</td><td>Subscriber                      </td><td>Male                            </td><td>1990                            </td></tr>\n",
       "\t<tr><th scope=row>8626</th><td> 879494                                                                 </td><td>2017-05-18 05:06:50                                                     </td><td>2017-05-18 05:22:10                                                     </td><td> 920                                                                    </td><td><span style=white-space:pre-wrap>Artesian Ave &amp; Hubbard St   </span></td><td><span style=white-space:pre-wrap>Wacker Dr &amp; Washington St   </span></td><td>Subscriber                                                              </td><td>Male                                                                    </td><td>1959                                                                    </td></tr>\n",
       "\t<tr><th scope=row>8627</th><td> 360389                                                                 </td><td>2017-03-19 07:21:29                                                     </td><td>2017-03-19 07:27:18                                                     </td><td> 349                                                                    </td><td><span style=white-space:pre-wrap>Wabash Ave &amp; Roosevelt Rd   </span></td><td><span style=white-space:pre-wrap>Wells St &amp; Polk St          </span></td><td>Subscriber                                                              </td><td>Male                                                                    </td><td>1987                                                                    </td></tr>\n",
       "\t<tr><th scope=row>8628</th><td> 858496                                                                 </td><td>2017-05-16 17:03:24                                                     </td><td>2017-05-16 17:31:12                                                     </td><td>1668                                                                    </td><td><span style=white-space:pre-wrap>Ashland Ave &amp; Harrison St   </span></td><td><span style=white-space:pre-wrap>Wells St &amp; Concord Ln       </span></td><td>Subscriber                                                              </td><td>Male                                                                    </td><td>1963                                                                    </td></tr>\n",
       "\t<tr><th scope=row>8629</th><td> 777620                                                                 </td><td>2017-05-10 08:53:03                                                     </td><td>2017-05-10 08:54:32                                                     </td><td><span style=white-space:pre-wrap>  89</span>                            </td><td><span style=white-space:pre-wrap>Western Ave &amp; Leland Ave    </span></td><td><span style=white-space:pre-wrap>Western Ave &amp; Leland Ave    </span></td><td>Subscriber                                                              </td><td>Male                                                                    </td><td>1977                                                                    </td></tr>\n",
       "\t<tr><th scope=row>8630</th><td>1230561                     </td><td>2017-06-11 14:52:13         </td><td>2017-06-11 15:42:33         </td><td>3020                        </td><td>Waba                        </td><td>                            </td><td>                            </td><td>                            </td><td>  NA                        </td></tr>\n",
       "</tbody>\n",
       "</table>\n"
      ],
      "text/latex": [
       "\\begin{tabular}{r|lllllllll}\n",
       "  & X & Start.Time & End.Time & Trip.Duration & Start.Station & End.Station & User.Type & Gender & Birth.Year\\\\\n",
       "\\hline\n",
       "\t8625 &  397518                        & 2017-03-24 16:52:16            & 2017-03-24 16:57:57            &  341                           & Southport Ave \\& Waveland Ave & Southport Ave \\& Waveland Ave & Subscriber                     & Male                           & 1990                          \\\\\n",
       "\t8626 &  879494                        & 2017-05-18 05:06:50            & 2017-05-18 05:22:10            &  920                           & Artesian Ave \\& Hubbard St    & Wacker Dr \\& Washington St    & Subscriber                     & Male                           & 1959                          \\\\\n",
       "\t8627 &  360389                        & 2017-03-19 07:21:29            & 2017-03-19 07:27:18            &  349                           & Wabash Ave \\& Roosevelt Rd    & Wells St \\& Polk St           & Subscriber                     & Male                           & 1987                          \\\\\n",
       "\t8628 &  858496                        & 2017-05-16 17:03:24            & 2017-05-16 17:31:12            & 1668                           & Ashland Ave \\& Harrison St    & Wells St \\& Concord Ln        & Subscriber                     & Male                           & 1963                          \\\\\n",
       "\t8629 &  777620                        & 2017-05-10 08:53:03            & 2017-05-10 08:54:32            &   89                           & Western Ave \\& Leland Ave     & Western Ave \\& Leland Ave     & Subscriber                     & Male                           & 1977                          \\\\\n",
       "\t8630 & 1230561                      & 2017-06-11 14:52:13          & 2017-06-11 15:42:33          & 3020                         & Waba                         &                              &                              &                              &   NA                        \\\\\n",
       "\\end{tabular}\n"
      ],
      "text/markdown": [
       "\n",
       "| <!--/--> | X | Start.Time | End.Time | Trip.Duration | Start.Station | End.Station | User.Type | Gender | Birth.Year |\n",
       "|---|---|---|---|---|---|---|---|---|---|\n",
       "| 8625 |  397518                      | 2017-03-24 16:52:16          | 2017-03-24 16:57:57          |  341                         | Southport Ave & Waveland Ave | Southport Ave & Waveland Ave | Subscriber                   | Male                         | 1990                         |\n",
       "| 8626 |  879494                      | 2017-05-18 05:06:50          | 2017-05-18 05:22:10          |  920                         | Artesian Ave & Hubbard St    | Wacker Dr & Washington St    | Subscriber                   | Male                         | 1959                         |\n",
       "| 8627 |  360389                      | 2017-03-19 07:21:29          | 2017-03-19 07:27:18          |  349                         | Wabash Ave & Roosevelt Rd    | Wells St & Polk St           | Subscriber                   | Male                         | 1987                         |\n",
       "| 8628 |  858496                      | 2017-05-16 17:03:24          | 2017-05-16 17:31:12          | 1668                         | Ashland Ave & Harrison St    | Wells St & Concord Ln        | Subscriber                   | Male                         | 1963                         |\n",
       "| 8629 |  777620                      | 2017-05-10 08:53:03          | 2017-05-10 08:54:32          |   89                         | Western Ave & Leland Ave     | Western Ave & Leland Ave     | Subscriber                   | Male                         | 1977                         |\n",
       "| 8630 | 1230561                      | 2017-06-11 14:52:13          | 2017-06-11 15:42:33          | 3020                         | Waba                         |                              |                              |                              |   NA                         |\n",
       "\n"
      ],
      "text/plain": [
       "     X       Start.Time          End.Time            Trip.Duration\n",
       "8625  397518 2017-03-24 16:52:16 2017-03-24 16:57:57  341         \n",
       "8626  879494 2017-05-18 05:06:50 2017-05-18 05:22:10  920         \n",
       "8627  360389 2017-03-19 07:21:29 2017-03-19 07:27:18  349         \n",
       "8628  858496 2017-05-16 17:03:24 2017-05-16 17:31:12 1668         \n",
       "8629  777620 2017-05-10 08:53:03 2017-05-10 08:54:32   89         \n",
       "8630 1230561 2017-06-11 14:52:13 2017-06-11 15:42:33 3020         \n",
       "     Start.Station                End.Station                  User.Type \n",
       "8625 Southport Ave & Waveland Ave Southport Ave & Waveland Ave Subscriber\n",
       "8626 Artesian Ave & Hubbard St    Wacker Dr & Washington St    Subscriber\n",
       "8627 Wabash Ave & Roosevelt Rd    Wells St & Polk St           Subscriber\n",
       "8628 Ashland Ave & Harrison St    Wells St & Concord Ln        Subscriber\n",
       "8629 Western Ave & Leland Ave     Western Ave & Leland Ave     Subscriber\n",
       "8630 Waba                                                                \n",
       "     Gender Birth.Year\n",
       "8625 Male   1990      \n",
       "8626 Male   1959      \n",
       "8627 Male   1987      \n",
       "8628 Male   1963      \n",
       "8629 Male   1977      \n",
       "8630          NA      "
      ]
     },
     "metadata": {},
     "output_type": "display_data"
    },
    {
     "name": "stdout",
     "output_type": "stream",
     "text": [
      "'data.frame':\t8630 obs. of  9 variables:\n",
      " $ X            : int  1423854 955915 9031 304487 45207 1473887 961916 65924 606841 135470 ...\n",
      " $ Start.Time   : Factor w/ 8624 levels \"2017-01-01 00:40:14\",..: 7876 5303 73 1721 267 8173 5347 368 3376 795 ...\n",
      " $ End.Time     : Factor w/ 8625 levels \"2017-01-01 00:46:32\",..: 7876 5303 73 1722 267 8173 5346 368 3376 796 ...\n",
      " $ Trip.Duration: int  321 1610 416 350 534 586 281 723 689 493 ...\n",
      " $ Start.Station: Factor w/ 472 levels \"2112 W Peterson Ave\",..: 468 424 291 80 103 119 22 255 374 420 ...\n",
      " $ End.Station  : Factor w/ 471 levels \"\",\"2112 W Peterson Ave\",..: 132 381 469 409 151 70 467 251 200 118 ...\n",
      " $ User.Type    : Factor w/ 3 levels \"\",\"Customer\",..: 3 3 3 3 3 3 3 2 3 3 ...\n",
      " $ Gender       : Factor w/ 3 levels \"\",\"Female\",\"Male\": 3 2 3 3 3 3 2 1 3 3 ...\n",
      " $ Birth.Year   : num  1992 1992 1981 1986 1975 ...\n"
     ]
    },
    {
     "data": {
      "text/plain": [
       "       X                         Start.Time                  End.Time   \n",
       " Min.   :     36   2017-01-24 07:40:32:   2   2017-04-16 13:16:52:   2  \n",
       " 1st Qu.: 386722   2017-04-22 13:16:25:   2   2017-04-26 16:29:26:   2  \n",
       " Median : 773554   2017-05-27 15:17:50:   2   2017-05-21 16:20:56:   2  \n",
       " Mean   : 776721   2017-06-10 13:29:41:   2   2017-05-27 09:58:21:   2  \n",
       " 3rd Qu.:1171266   2017-06-20 17:05:11:   2   2017-06-25 14:51:35:   2  \n",
       " Max.   :1551248   2017-06-21 13:18:52:   2   2017-01-01 00:46:32:   1  \n",
       "                   (Other)            :8618   (Other)            :8619  \n",
       " Trip.Duration                          Start.Station \n",
       " Min.   :   60.0   Streeter Dr & Grand Ave     : 210  \n",
       " 1st Qu.:  394.2   Lake Shore Dr & Monroe St   : 140  \n",
       " Median :  670.0   Clinton St & Washington Blvd: 120  \n",
       " Mean   :  937.2   Clinton St & Madison St     : 102  \n",
       " 3rd Qu.: 1119.0   Canal St & Adams St         : 101  \n",
       " Max.   :85408.0   Michigan Ave & Oak St       :  98  \n",
       "                   (Other)                     :7859  \n",
       "                       End.Station        User.Type       Gender    \n",
       " Streeter Dr & Grand Ave     : 233             :   1         :1748  \n",
       " Clinton St & Madison St     : 145   Customer  :1746   Female:1723  \n",
       " Theater on the Lake         : 131   Subscriber:6883   Male  :5159  \n",
       " Lake Shore Dr & Monroe St   : 115                                  \n",
       " Clinton St & Washington Blvd: 109                                  \n",
       " Lake Shore Dr & North Blvd  : 102                                  \n",
       " (Other)                     :7795                                  \n",
       "   Birth.Year  \n",
       " Min.   :1899  \n",
       " 1st Qu.:1975  \n",
       " Median :1984  \n",
       " Mean   :1981  \n",
       " 3rd Qu.:1989  \n",
       " Max.   :2002  \n",
       " NA's   :1747  "
      ]
     },
     "metadata": {},
     "output_type": "display_data"
    },
    {
     "data": {
      "text/html": [
       "<ol class=list-inline>\n",
       "\t<li>'X'</li>\n",
       "\t<li>'Start.Time'</li>\n",
       "\t<li>'End.Time'</li>\n",
       "\t<li>'Trip.Duration'</li>\n",
       "\t<li>'Start.Station'</li>\n",
       "\t<li>'End.Station'</li>\n",
       "\t<li>'User.Type'</li>\n",
       "\t<li>'Gender'</li>\n",
       "\t<li>'Birth.Year'</li>\n",
       "</ol>\n"
      ],
      "text/latex": [
       "\\begin{enumerate*}\n",
       "\\item 'X'\n",
       "\\item 'Start.Time'\n",
       "\\item 'End.Time'\n",
       "\\item 'Trip.Duration'\n",
       "\\item 'Start.Station'\n",
       "\\item 'End.Station'\n",
       "\\item 'User.Type'\n",
       "\\item 'Gender'\n",
       "\\item 'Birth.Year'\n",
       "\\end{enumerate*}\n"
      ],
      "text/markdown": [
       "1. 'X'\n",
       "2. 'Start.Time'\n",
       "3. 'End.Time'\n",
       "4. 'Trip.Duration'\n",
       "5. 'Start.Station'\n",
       "6. 'End.Station'\n",
       "7. 'User.Type'\n",
       "8. 'Gender'\n",
       "9. 'Birth.Year'\n",
       "\n",
       "\n"
      ],
      "text/plain": [
       "[1] \"X\"             \"Start.Time\"    \"End.Time\"      \"Trip.Duration\"\n",
       "[5] \"Start.Station\" \"End.Station\"   \"User.Type\"     \"Gender\"       \n",
       "[9] \"Birth.Year\"   "
      ]
     },
     "metadata": {},
     "output_type": "display_data"
    },
    {
     "data": {
      "text/html": [
       "<table>\n",
       "<thead><tr><th scope=col>freq</th></tr></thead>\n",
       "<tbody>\n",
       "</tbody>\n",
       "</table>\n"
      ],
      "text/latex": [
       "\\begin{tabular}{r|l}\n",
       " freq\\\\\n",
       "\\hline\n",
       "\\end{tabular}\n"
      ],
      "text/markdown": [
       "\n",
       "| freq |\n",
       "|---|\n",
       "\n"
      ],
      "text/plain": [
       "     freq"
      ]
     },
     "metadata": {},
     "output_type": "display_data"
    },
    {
     "data": {
      "text/plain": [
       "NULL"
      ]
     },
     "metadata": {},
     "output_type": "display_data"
    },
    {
     "data": {
      "text/html": [
       "<ol class=list-inline>\n",
       "\t<li><time datetime=\"2017-06-23\">2017-06-23</time></li>\n",
       "\t<li><time datetime=\"2017-05-25\">2017-05-25</time></li>\n",
       "\t<li><time datetime=\"2017-01-04\">2017-01-04</time></li>\n",
       "\t<li><time datetime=\"2017-03-06\">2017-03-06</time></li>\n",
       "\t<li><time datetime=\"2017-01-17\">2017-01-17</time></li>\n",
       "\t<li><time datetime=\"2017-06-26\">2017-06-26</time></li>\n",
       "</ol>\n"
      ],
      "text/latex": [
       "\\begin{enumerate*}\n",
       "\\item 2017-06-23\n",
       "\\item 2017-05-25\n",
       "\\item 2017-01-04\n",
       "\\item 2017-03-06\n",
       "\\item 2017-01-17\n",
       "\\item 2017-06-26\n",
       "\\end{enumerate*}\n"
      ],
      "text/markdown": [
       "1. 2017-06-23\n",
       "2. 2017-05-25\n",
       "3. 2017-01-04\n",
       "4. 2017-03-06\n",
       "5. 2017-01-17\n",
       "6. 2017-06-26\n",
       "\n",
       "\n"
      ],
      "text/plain": [
       "[1] \"2017-06-23\" \"2017-05-25\" \"2017-01-04\" \"2017-03-06\" \"2017-01-17\"\n",
       "[6] \"2017-06-26\""
      ]
     },
     "metadata": {},
     "output_type": "display_data"
    },
    {
     "data": {
      "image/png": "[encoded data removed]",
      "text/plain": [
       "plot without title"
      ]
     },
     "metadata": {},
     "output_type": "display_data"
    }
   ],
   "source": [
    "library(ggplot2)\n",
    "library(plyr)\n",
    "\n",
    "#Exploring\n",
    "head(chi)\n",
    "tail(chi)\n",
    "str(chi)\n",
    "summary(chi)\n",
    "names(chi)\n",
    "\n",

    "\n",
    "#Creating a mode function for the starting months.\n",
    "mode_month <- function(m){\n",
    "  uniqm <- unique(m)\n",
    "  uniqm[which.max(tabulate(match(m, uniqm)))]\n",
    "}\n",
    "\n",
    "#Calculating which month appeared the most.\n",
    "mode_month(chi$start_month)\n",
    "\n",
    "#Converting start.time to be date format\n",
    "Date <- as.Date(chi$Start.Time)\n",
    "head(Date)\n",
    "\n",
    "#Adding a column for chi for the start date\n",
    "chi$start_date <- Date\n",
    "\n",
    "#Adding a column for chi for the month only of the start date\n",
    "chi$start_month <- months(chi$start_date)\n",
    "\n",
    "\n",
    "#Creating a bar chart for the start month\n",
    "ggplot(data = chi, aes(x = start_month)) +\n",
    "  geom_bar(fill = 'blue', color = 'black') +\n",
    "  ggtitle(\"Number of Counts in Chicago Per Month\") +\n",
    "  labs(x = \"Starting Month\", y = \"Number of Counts\")"
   ]
  },
  {
   "cell_type": "code",
   "execution_count": null,
   "metadata": {},
   "outputs": [],
   "source": []
  },
  {
   "cell_type": "code",
   "execution_count": null,
   "metadata": {},
   "outputs": [],
   "source": []
  },
  {
   "cell_type": "markdown",
   "metadata": {},
   "source": [
    "We could see that June is the most common month in Chicago. There are about 100,000 number of counts in the month of June. May is the second most common month of about 60,000 number of counts. We could conclude as the month increase, the number of counts increase.\n"
   ]
  },
  {
   "cell_type": "markdown",
   "metadata": {},
   "source": [
    "### Question 2\n",
    "\n",
    "How often do most people borrow bikes for in New York?"
   ]
  },
  {
   "cell_type": "code",
   "execution_count": 7,
   "metadata": {},
   "outputs": [
    {
     "data": {
      "text/html": [
       "<table>\n",
       "<thead><tr><th scope=col>X</th><th scope=col>Start.Time</th><th scope=col>End.Time</th><th scope=col>Trip.Duration</th><th scope=col>Start.Station</th><th scope=col>End.Station</th><th scope=col>User.Type</th><th scope=col>Gender</th><th scope=col>Birth.Year</th></tr></thead>\n",
       "<tbody>\n",
       "\t<tr><td>5688089                                       </td><td>2017-06-11 14:55:05                           </td><td>2017-06-11 15:08:21                           </td><td> 795                                          </td><td>Suffolk St &amp; Stanton St                   </td><td>W Broadway &amp; Spring St                    </td><td>Subscriber                                    </td><td><span style=white-space:pre-wrap>Male  </span></td><td>1998                                          </td></tr>\n",
       "\t<tr><td>4096714                                                           </td><td>2017-05-11 15:30:11                                               </td><td>2017-05-11 15:41:43                                               </td><td> 692                                                              </td><td>Lexington Ave &amp; E 63 St                                       </td><td><span style=white-space:pre-wrap>1 Ave &amp; E 78 St       </span></td><td>Subscriber                                                        </td><td><span style=white-space:pre-wrap>Male  </span>                    </td><td>1981                                                              </td></tr>\n",
       "\t<tr><td>2173887                                                            </td><td>2017-03-29 13:26:26                                                </td><td>2017-03-29 13:48:31                                                </td><td>1325                                                               </td><td><span style=white-space:pre-wrap>1 Pl &amp; Clinton St      </span></td><td><span style=white-space:pre-wrap>Henry St &amp; Degraw St  </span> </td><td>Subscriber                                                         </td><td><span style=white-space:pre-wrap>Male  </span>                     </td><td>1987                                                               </td></tr>\n",
       "\t<tr><td>3945638                                                            </td><td>2017-05-08 19:47:18                                                </td><td>2017-05-08 19:59:01                                                </td><td> 703                                                               </td><td><span style=white-space:pre-wrap>Barrow St &amp; Hudson St  </span></td><td><span style=white-space:pre-wrap>W 20 St &amp; 8 Ave       </span> </td><td>Subscriber                                                         </td><td>Female                                                             </td><td>1986                                                               </td></tr>\n",
       "\t<tr><td>6208972                                                            </td><td>2017-06-21 07:49:16                                                </td><td>2017-06-21 07:54:46                                                </td><td> 329                                                               </td><td><span style=white-space:pre-wrap>1 Ave &amp; E 44 St        </span></td><td><span style=white-space:pre-wrap>E 53 St &amp; 3 Ave       </span> </td><td>Subscriber                                                         </td><td><span style=white-space:pre-wrap>Male  </span>                     </td><td>1992                                                               </td></tr>\n",
       "\t<tr><td>1285652                                                            </td><td>2017-02-22 18:55:24                                                </td><td>2017-02-22 19:12:03                                                </td><td> 998                                                               </td><td><span style=white-space:pre-wrap>State St &amp; Smith St    </span></td><td><span style=white-space:pre-wrap>Bond St &amp; Fulton St   </span> </td><td>Subscriber                                                         </td><td><span style=white-space:pre-wrap>Male  </span>                     </td><td>1986                                                               </td></tr>\n",
       "</tbody>\n",
       "</table>\n"
      ],
      "text/latex": [
       "\\begin{tabular}{r|lllllllll}\n",
       " X & Start.Time & End.Time & Trip.Duration & Start.Station & End.Station & User.Type & Gender & Birth.Year\\\\\n",
       "\\hline\n",
       "\t 5688089                   & 2017-06-11 14:55:05       & 2017-06-11 15:08:21       &  795                      & Suffolk St \\& Stanton St & W Broadway \\& Spring St  & Subscriber                & Male                      & 1998                     \\\\\n",
       "\t 4096714                   & 2017-05-11 15:30:11       & 2017-05-11 15:41:43       &  692                      & Lexington Ave \\& E 63 St & 1 Ave \\& E 78 St         & Subscriber                & Male                      & 1981                     \\\\\n",
       "\t 2173887                   & 2017-03-29 13:26:26       & 2017-03-29 13:48:31       & 1325                      & 1 Pl \\& Clinton St       & Henry St \\& Degraw St    & Subscriber                & Male                      & 1987                     \\\\\n",
       "\t 3945638                   & 2017-05-08 19:47:18       & 2017-05-08 19:59:01       &  703                      & Barrow St \\& Hudson St   & W 20 St \\& 8 Ave         & Subscriber                & Female                    & 1986                     \\\\\n",
       "\t 6208972                   & 2017-06-21 07:49:16       & 2017-06-21 07:54:46       &  329                      & 1 Ave \\& E 44 St         & E 53 St \\& 3 Ave         & Subscriber                & Male                      & 1992                     \\\\\n",
       "\t 1285652                   & 2017-02-22 18:55:24       & 2017-02-22 19:12:03       &  998                      & State St \\& Smith St     & Bond St \\& Fulton St     & Subscriber                & Male                      & 1986                     \\\\\n",
       "\\end{tabular}\n"
      ],
      "text/markdown": [
       "\n",
       "| X | Start.Time | End.Time | Trip.Duration | Start.Station | End.Station | User.Type | Gender | Birth.Year |\n",
       "|---|---|---|---|---|---|---|---|---|\n",
       "| 5688089                 | 2017-06-11 14:55:05     | 2017-06-11 15:08:21     |  795                    | Suffolk St & Stanton St | W Broadway & Spring St  | Subscriber              | Male                    | 1998                    |\n",
       "| 4096714                 | 2017-05-11 15:30:11     | 2017-05-11 15:41:43     |  692                    | Lexington Ave & E 63 St | 1 Ave & E 78 St         | Subscriber              | Male                    | 1981                    |\n",
       "| 2173887                 | 2017-03-29 13:26:26     | 2017-03-29 13:48:31     | 1325                    | 1 Pl & Clinton St       | Henry St & Degraw St    | Subscriber              | Male                    | 1987                    |\n",
       "| 3945638                 | 2017-05-08 19:47:18     | 2017-05-08 19:59:01     |  703                    | Barrow St & Hudson St   | W 20 St & 8 Ave         | Subscriber              | Female                  | 1986                    |\n",
       "| 6208972                 | 2017-06-21 07:49:16     | 2017-06-21 07:54:46     |  329                    | 1 Ave & E 44 St         | E 53 St & 3 Ave         | Subscriber              | Male                    | 1992                    |\n",
       "| 1285652                 | 2017-02-22 18:55:24     | 2017-02-22 19:12:03     |  998                    | State St & Smith St     | Bond St & Fulton St     | Subscriber              | Male                    | 1986                    |\n",
       "\n"
      ],
      "text/plain": [
       "  X       Start.Time          End.Time            Trip.Duration\n",
       "1 5688089 2017-06-11 14:55:05 2017-06-11 15:08:21  795         \n",
       "2 4096714 2017-05-11 15:30:11 2017-05-11 15:41:43  692         \n",
       "3 2173887 2017-03-29 13:26:26 2017-03-29 13:48:31 1325         \n",
       "4 3945638 2017-05-08 19:47:18 2017-05-08 19:59:01  703         \n",
       "5 6208972 2017-06-21 07:49:16 2017-06-21 07:54:46  329         \n",
       "6 1285652 2017-02-22 18:55:24 2017-02-22 19:12:03  998         \n",
       "  Start.Station           End.Station            User.Type  Gender Birth.Year\n",
       "1 Suffolk St & Stanton St W Broadway & Spring St Subscriber Male   1998      \n",
       "2 Lexington Ave & E 63 St 1 Ave & E 78 St        Subscriber Male   1981      \n",
       "3 1 Pl & Clinton St       Henry St & Degraw St   Subscriber Male   1987      \n",
       "4 Barrow St & Hudson St   W 20 St & 8 Ave        Subscriber Female 1986      \n",
       "5 1 Ave & E 44 St         E 53 St & 3 Ave        Subscriber Male   1992      \n",
       "6 State St & Smith St     Bond St & Fulton St    Subscriber Male   1986      "
      ]
     },
     "metadata": {},
     "output_type": "display_data"
    },
    {
     "data": {
      "text/html": [
       "<table>\n",
       "<thead><tr><th></th><th scope=col>X</th><th scope=col>Start.Time</th><th scope=col>End.Time</th><th scope=col>Trip.Duration</th><th scope=col>Start.Station</th><th scope=col>End.Station</th><th scope=col>User.Type</th><th scope=col>Gender</th><th scope=col>Birth.Year</th></tr></thead>\n",
       "<tbody>\n",
       "\t<tr><th scope=row>54765</th><td>1293888                                                              </td><td>2017-02-23 06:14:14                                                  </td><td>2017-02-23 06:23:32                                                  </td><td> 558                                                                 </td><td><span style=white-space:pre-wrap>E 27 St &amp; 1 Ave          </span></td><td><span style=white-space:pre-wrap>E 47 St &amp; Park Ave      </span> </td><td>Subscriber                                                           </td><td>Male                                                                 </td><td>1984                                                                 </td></tr>\n",
       "\t<tr><th scope=row>54766</th><td> 642855                                                              </td><td>2017-01-28 16:44:18                                                  </td><td>2017-01-28 16:48:18                                                  </td><td> 240                                                                 </td><td><span style=white-space:pre-wrap>W 52 St &amp; 9 Ave          </span></td><td><span style=white-space:pre-wrap>9 Ave &amp; W 45 St         </span> </td><td>Subscriber                                                           </td><td>Male                                                                 </td><td>1991                                                                 </td></tr>\n",
       "\t<tr><th scope=row>54767</th><td>2157959                                                              </td><td>2017-03-29 06:30:35                                                  </td><td>2017-03-29 06:32:41                                                  </td><td> 125                                                                 </td><td><span style=white-space:pre-wrap>W 84 St &amp; Columbus Ave   </span></td><td><span style=white-space:pre-wrap>W 87 St  &amp; Amsterdam Ave</span> </td><td>Subscriber                                                           </td><td>Male                                                                 </td><td>1984                                                                 </td></tr>\n",
       "\t<tr><th scope=row>54768</th><td>5679624                                                              </td><td>2017-06-11 12:52:27                                                  </td><td>2017-06-11 12:58:35                                                  </td><td> 367                                                                 </td><td><span style=white-space:pre-wrap>8 Ave &amp; W 33 St          </span></td><td><span style=white-space:pre-wrap>W 45 St &amp; 8 Ave         </span> </td><td>Subscriber                                                           </td><td>Male                                                                 </td><td>1954                                                                 </td></tr>\n",
       "\t<tr><th scope=row>54769</th><td>6762960                                                             </td><td>2017-06-30 07:48:34                                                 </td><td>2017-06-30 08:17:16                                                 </td><td>1722                                                                </td><td>Cathedral Pkwy &amp; Broadway                                       </td><td><span style=white-space:pre-wrap>Broadway &amp; W 51 St      </span></td><td>Subscriber                                                          </td><td>Male                                                                </td><td>1974                                                                </td></tr>\n",
       "\t<tr><th scope=row>54770</th><td>6078570                  </td><td>2017-06-18 16:20:21      </td><td>201                      </td><td>  NA                     </td><td>                         </td><td>                         </td><td>                         </td><td>                         </td><td>  NA                     </td></tr>\n",
       "</tbody>\n",
       "</table>\n"
      ],
      "text/latex": [
       "\\begin{tabular}{r|lllllllll}\n",
       "  & X & Start.Time & End.Time & Trip.Duration & Start.Station & End.Station & User.Type & Gender & Birth.Year\\\\\n",
       "\\hline\n",
       "\t54765 & 1293888                     & 2017-02-23 06:14:14         & 2017-02-23 06:23:32         &  558                        & E 27 St \\& 1 Ave           & E 47 St \\& Park Ave        & Subscriber                  & Male                        & 1984                       \\\\\n",
       "\t54766 &  642855                     & 2017-01-28 16:44:18         & 2017-01-28 16:48:18         &  240                        & W 52 St \\& 9 Ave           & 9 Ave \\& W 45 St           & Subscriber                  & Male                        & 1991                       \\\\\n",
       "\t54767 & 2157959                     & 2017-03-29 06:30:35         & 2017-03-29 06:32:41         &  125                        & W 84 St \\& Columbus Ave    & W 87 St  \\& Amsterdam Ave  & Subscriber                  & Male                        & 1984                       \\\\\n",
       "\t54768 & 5679624                     & 2017-06-11 12:52:27         & 2017-06-11 12:58:35         &  367                        & 8 Ave \\& W 33 St           & W 45 St \\& 8 Ave           & Subscriber                  & Male                        & 1954                       \\\\\n",
       "\t54769 & 6762960                     & 2017-06-30 07:48:34         & 2017-06-30 08:17:16         & 1722                        & Cathedral Pkwy \\& Broadway & Broadway \\& W 51 St        & Subscriber                  & Male                        & 1974                       \\\\\n",
       "\t54770 & 6078570                   & 2017-06-18 16:20:21       & 201                       &   NA                      &                           &                           &                           &                           &   NA                     \\\\\n",
       "\\end{tabular}\n"
      ],
      "text/markdown": [
       "\n",
       "| <!--/--> | X | Start.Time | End.Time | Trip.Duration | Start.Station | End.Station | User.Type | Gender | Birth.Year |\n",
       "|---|---|---|---|---|---|---|---|---|---|\n",
       "| 54765 | 1293888                   | 2017-02-23 06:14:14       | 2017-02-23 06:23:32       |  558                      | E 27 St & 1 Ave           | E 47 St & Park Ave        | Subscriber                | Male                      | 1984                      |\n",
       "| 54766 |  642855                   | 2017-01-28 16:44:18       | 2017-01-28 16:48:18       |  240                      | W 52 St & 9 Ave           | 9 Ave & W 45 St           | Subscriber                | Male                      | 1991                      |\n",
       "| 54767 | 2157959                   | 2017-03-29 06:30:35       | 2017-03-29 06:32:41       |  125                      | W 84 St & Columbus Ave    | W 87 St  & Amsterdam Ave  | Subscriber                | Male                      | 1984                      |\n",
       "| 54768 | 5679624                   | 2017-06-11 12:52:27       | 2017-06-11 12:58:35       |  367                      | 8 Ave & W 33 St           | W 45 St & 8 Ave           | Subscriber                | Male                      | 1954                      |\n",
       "| 54769 | 6762960                   | 2017-06-30 07:48:34       | 2017-06-30 08:17:16       | 1722                      | Cathedral Pkwy & Broadway | Broadway & W 51 St        | Subscriber                | Male                      | 1974                      |\n",
       "| 54770 | 6078570                   | 2017-06-18 16:20:21       | 201                       |   NA                      |                           |                           |                           |                           |   NA                      |\n",
       "\n"
      ],
      "text/plain": [
       "      X       Start.Time          End.Time            Trip.Duration\n",
       "54765 1293888 2017-02-23 06:14:14 2017-02-23 06:23:32  558         \n",
       "54766  642855 2017-01-28 16:44:18 2017-01-28 16:48:18  240         \n",
       "54767 2157959 2017-03-29 06:30:35 2017-03-29 06:32:41  125         \n",
       "54768 5679624 2017-06-11 12:52:27 2017-06-11 12:58:35  367         \n",
       "54769 6762960 2017-06-30 07:48:34 2017-06-30 08:17:16 1722         \n",
       "54770 6078570 2017-06-18 16:20:21 201                   NA         \n",
       "      Start.Station             End.Station              User.Type  Gender\n",
       "54765 E 27 St & 1 Ave           E 47 St & Park Ave       Subscriber Male  \n",
       "54766 W 52 St & 9 Ave           9 Ave & W 45 St          Subscriber Male  \n",
       "54767 W 84 St & Columbus Ave    W 87 St  & Amsterdam Ave Subscriber Male  \n",
       "54768 8 Ave & W 33 St           W 45 St & 8 Ave          Subscriber Male  \n",
       "54769 Cathedral Pkwy & Broadway Broadway & W 51 St       Subscriber Male  \n",
       "54770                                                                     \n",
       "      Birth.Year\n",
       "54765 1984      \n",
       "54766 1991      \n",
       "54767 1984      \n",
       "54768 1954      \n",
       "54769 1974      \n",
       "54770   NA      "
      ]
     },
     "metadata": {},
     "output_type": "display_data"
    },
    {
     "name": "stdout",
     "output_type": "stream",
     "text": [
      "'data.frame':\t54770 obs. of  9 variables:\n",
      " $ X            : int  5688089 4096714 2173887 3945638 6208972 1285652 1675753 1692245 2271331 1558339 ...\n",
      " $ Start.Time   : Factor w/ 54568 levels \"2017-01-01 00:17:01\",..: 45448 32799 17316 31589 49688 10220 13390 13509 18111 12449 ...\n",
      " $ End.Time     : Factor w/ 54562 levels \"201\",\"2017-01-01 00:30:56\",..: 45432 32783 17295 31567 49668 10204 13364 13505 18092 12422 ...\n",
      " $ Trip.Duration: int  795 692 1325 703 329 998 478 4038 5132 309 ...\n",
      " $ Start.Station: Factor w/ 636 levels \"\",\"1 Ave & E 16 St\",..: 522 406 10 93 5 521 325 309 151 245 ...\n",
      " $ End.Station  : Factor w/ 638 levels \"\",\"1 Ave & E 16 St\",..: 613 8 362 558 269 107 389 110 151 243 ...\n",
      " $ User.Type    : Factor w/ 3 levels \"\",\"Customer\",..: 3 3 3 3 3 3 3 3 2 3 ...\n",
      " $ Gender       : Factor w/ 3 levels \"\",\"Female\",\"Male\": 3 3 3 2 3 3 3 3 1 3 ...\n",
      " $ Birth.Year   : num  1998 1981 1987 1986 1992 ...\n"
     ]
    },
    {
     "data": {
      "text/plain": [
       "       X                         Start.Time                   End.Time    \n",
       " Min.   :     47   2017-05-11 18:26:10:    3   2017-01-03 08:54:10:    2  \n",
       " 1st Qu.:1712425   2017-01-04 13:58:24:    2   2017-01-04 17:21:55:    2  \n",
       " Median :3418634   2017-01-09 09:36:01:    2   2017-01-05 17:25:17:    2  \n",
       " Mean   :3415873   2017-01-21 15:36:56:    2   2017-01-12 08:34:01:    2  \n",
       " 3rd Qu.:5123382   2017-01-21 17:49:59:    2   2017-01-12 09:41:54:    2  \n",
       " Max.   :6816152   2017-01-21 20:08:29:    2   2017-01-12 20:34:42:    2  \n",
       "                   (Other)            :54757   (Other)            :54758  \n",
       " Trip.Duration                     Start.Station  \n",
       " Min.   :     61.0   Pershing Square North:  592  \n",
       " 1st Qu.:    368.0   W 21 St & 6 Ave      :  385  \n",
       " Median :    610.0   Broadway & E 22 St   :  383  \n",
       " Mean   :    903.6   E 17 St & Broadway   :  380  \n",
       " 3rd Qu.:   1051.0   West St & Chambers St:  364  \n",
       " Max.   :1088634.0   W 20 St & 11 Ave     :  329  \n",
       " NA's   :1           (Other)              :52337  \n",
       "                End.Station         User.Type        Gender        Birth.Year  \n",
       " Pershing Square North:  556             :  119         : 5410   Min.   :1885  \n",
       " E 17 St & Broadway   :  445   Customer  : 5558   Female:12159   1st Qu.:1970  \n",
       " Broadway & E 22 St   :  427   Subscriber:49093   Male  :37201   Median :1981  \n",
       " W 21 St & 6 Ave      :  365                                     Mean   :1978  \n",
       " W 20 St & 11 Ave     :  344                                     3rd Qu.:1988  \n",
       " W 38 St & 8 Ave      :  338                                     Max.   :2001  \n",
       " (Other)              :52295                                     NA's   :5218  "
      ]
     },
     "metadata": {},
     "output_type": "display_data"
    },
    {
     "data": {
      "text/html": [
       "<ol class=list-inline>\n",
       "\t<li>'X'</li>\n",
       "\t<li>'Start.Time'</li>\n",
       "\t<li>'End.Time'</li>\n",
       "\t<li>'Trip.Duration'</li>\n",
       "\t<li>'Start.Station'</li>\n",
       "\t<li>'End.Station'</li>\n",
       "\t<li>'User.Type'</li>\n",
       "\t<li>'Gender'</li>\n",
       "\t<li>'Birth.Year'</li>\n",
       "</ol>\n"
      ],
      "text/latex": [
       "\\begin{enumerate*}\n",
       "\\item 'X'\n",
       "\\item 'Start.Time'\n",
       "\\item 'End.Time'\n",
       "\\item 'Trip.Duration'\n",
       "\\item 'Start.Station'\n",
       "\\item 'End.Station'\n",
       "\\item 'User.Type'\n",
       "\\item 'Gender'\n",
       "\\item 'Birth.Year'\n",
       "\\end{enumerate*}\n"
      ],
      "text/markdown": [
       "1. 'X'\n",
       "2. 'Start.Time'\n",
       "3. 'End.Time'\n",
       "4. 'Trip.Duration'\n",
       "5. 'Start.Station'\n",
       "6. 'End.Station'\n",
       "7. 'User.Type'\n",
       "8. 'Gender'\n",
       "9. 'Birth.Year'\n",
       "\n",
       "\n"
      ],
      "text/plain": [
       "[1] \"X\"             \"Start.Time\"    \"End.Time\"      \"Trip.Duration\"\n",
       "[5] \"Start.Station\" \"End.Station\"   \"User.Type\"     \"Gender\"       \n",
       "[9] \"Birth.Year\"   "
      ]
     },
     "metadata": {},
     "output_type": "display_data"
    },
    {
     "data": {
      "text/html": [
       "&lt;NA&gt;"
      ],
      "text/latex": [
       "<NA>"
      ],
      "text/markdown": [
       "&lt;NA&gt;"
      ],
      "text/plain": [
       "[1] NA"
      ]
     },
     "metadata": {},
     "output_type": "display_data"
    },
    {
     "data": {
      "text/html": [
       "&lt;NA&gt;"
      ],
      "text/latex": [
       "<NA>"
      ],
      "text/markdown": [
       "&lt;NA&gt;"
      ],
      "text/plain": [
       "[1] NA"
      ]
     },
     "metadata": {},
     "output_type": "display_data"
    },
    {
     "data": {
      "text/html": [
       "388"
      ],
      "text/latex": [
       "388"
      ],
      "text/markdown": [
       "388"
      ],
      "text/plain": [
       "[1] 388"
      ]
     },
     "metadata": {},
     "output_type": "display_data"
    },
    {
     "name": "stderr",
     "output_type": "stream",
     "text": [
      "Warning message:\n",
      "“Removed 2822 rows containing non-finite values (stat_bin).”Warning message:\n",
      "“Removed 2 rows containing missing values (geom_bar).”"
     ]
    },
    {
     "data": {
      "image/png": "[encoded data removed]",
      "text/plain": [
       "plot without title"
      ]
     },
     "metadata": {},
     "output_type": "display_data"
    }
   ],
   "source": [
    "library(ggplot2)\n",
    "\n",
    "#Exploring\n",
    "head(ny)\n",
    "tail(ny)\n",
    "str(ny)\n",
    "summary(ny)\n",
    "names(ny)\n",
    "\n",
    "#Creating an average function\n",
    "avg_trip <- function(x){\n",
    "  sum(x) / length(x)\n",
    "}\n",
    "\n",
    "#Finding the average of the trip duration\n",
    "avg_trip(ny$Trip.Duration)\n",
    "\n",
    "#Finding the median of the trip duration\n",
    "median(ny$Trip.Duration)\n",
    "\n",
    "#Creating a function for the mode of the trip duration\n",
    "mode_trip <- function(y){\n",
    "  uniqy <- unique(y)\n",
    "  uniqy[which.max(tabulate(match(y, uniqy)))]\n",
    "}\n",
    "\n",
    "#Finding the mode of the trip duration, which could also answer our question.\n",
    "mode_trip(ny$Trip.Duration)\n",
    "\n",
    "#Creating a histogram of the trip duration\n",
    "ggplot(data = ny, aes(x = Trip.Duration)) +\n",
    "  geom_histogram(binwidth = 60, color = 'black', fill = 'green') +\n",
    "  scale_x_continuous(limits = c(0,2000)) +\n",
    "  ggtitle(\"Trip Duration Distribution in New York City\") +\n",
    "  labs(x = \"Trip Duration per 60 Seconds\", y = \"Frequency\")"
   ]
  },
  {
   "cell_type": "code",
   "execution_count": null,
   "metadata": {},
   "outputs": [],
   "source": []
  },
  {
   "cell_type": "code",
   "execution_count": null,
   "metadata": {},
   "outputs": [],
   "source": []
  },
  {
   "cell_type": "markdown",
   "metadata": {},
   "source": [
    "Since the bin width was set to 60 seconds, this histogram shows that most of the frequency appears within 300 to 360 seconds. Our calculated mode is within that range."
   ]
  },
  {
   "cell_type": "markdown",
   "metadata": {},
   "source": [
    "### Question 3\n",
    "What is the average travel time for users in Washington based on their user type?"
   ]
  },
  {
   "cell_type": "code",
   "execution_count": 8,
   "metadata": {},
   "outputs": [
    {
     "data": {
      "text/html": [
       "<table>\n",
       "<thead><tr><th scope=col>X</th><th scope=col>Start.Time</th><th scope=col>End.Time</th><th scope=col>Trip.Duration</th><th scope=col>Start.Station</th><th scope=col>End.Station</th><th scope=col>User.Type</th></tr></thead>\n",
       "<tbody>\n",
       "\t<tr><td>1621326                                                                                        </td><td>2017-06-21 08:36:34                                                                            </td><td>2017-06-21 08:44:43                                                                            </td><td> 489.066                                                                                       </td><td><span style=white-space:pre-wrap>14th &amp; Belmont St NW                       </span>        </td><td><span style=white-space:pre-wrap>15th &amp; K St NW                                     </span></td><td>Subscriber                                                                                     </td></tr>\n",
       "\t<tr><td> 482740                                                                                        </td><td>2017-03-11 10:40:00                                                                            </td><td>2017-03-11 10:46:00                                                                            </td><td> 402.549                                                                                       </td><td><span style=white-space:pre-wrap>Yuma St &amp; Tenley Circle NW                 </span>        </td><td><span style=white-space:pre-wrap>Connecticut Ave &amp; Yuma St NW                       </span></td><td>Subscriber                                                                                     </td></tr>\n",
       "\t<tr><td>1330037                                                                                        </td><td>2017-05-30 01:02:59                                                                            </td><td>2017-05-30 01:13:37                                                                            </td><td> 637.251                                                                                       </td><td><span style=white-space:pre-wrap>17th St &amp; Massachusetts Ave NW             </span>        </td><td><span style=white-space:pre-wrap>5th &amp; K St NW                                      </span></td><td>Subscriber                                                                                     </td></tr>\n",
       "\t<tr><td> 665458                                                                                        </td><td>2017-04-02 07:48:35                                                                            </td><td>2017-04-02 08:19:03                                                                            </td><td>1827.341                                                                                       </td><td><span style=white-space:pre-wrap>Constitution Ave &amp; 2nd St NW/DOL           </span>        </td><td><span style=white-space:pre-wrap>M St &amp; Pennsylvania Ave NW                         </span></td><td><span style=white-space:pre-wrap>Customer  </span>                                             </td></tr>\n",
       "\t<tr><td>1481135                                                                                        </td><td>2017-06-10 08:36:28                                                                            </td><td>2017-06-10 09:02:17                                                                            </td><td>1549.427                                                                                       </td><td>Henry Bacon Dr &amp; Lincoln Memorial Circle NW                                                </td><td><span style=white-space:pre-wrap>Maine Ave &amp; 7th St SW                              </span></td><td>Subscriber                                                                                     </td></tr>\n",
       "\t<tr><td>1148202                                                                                </td><td>2017-05-14 07:18:18                                                                    </td><td>2017-05-14 07:24:56                                                                    </td><td> 398.000                                                                               </td><td><span style=white-space:pre-wrap>1st &amp; K St SE                              </span></td><td>Eastern Market Metro / Pennsylvania Ave &amp; 7th St SE                                </td><td>Subscriber                                                                             </td></tr>\n",
       "</tbody>\n",
       "</table>\n"
      ],
      "text/latex": [
       "\\begin{tabular}{r|lllllll}\n",
       " X & Start.Time & End.Time & Trip.Duration & Start.Station & End.Station & User.Type\\\\\n",
       "\\hline\n",
       "\t 1621326                                               & 2017-06-21 08:36:34                                   & 2017-06-21 08:44:43                                   &  489.066                                              & 14th \\& Belmont St NW                                & 15th \\& K St NW                                      & Subscriber                                           \\\\\n",
       "\t  482740                                               & 2017-03-11 10:40:00                                   & 2017-03-11 10:46:00                                   &  402.549                                              & Yuma St \\& Tenley Circle NW                          & Connecticut Ave \\& Yuma St NW                        & Subscriber                                           \\\\\n",
       "\t 1330037                                               & 2017-05-30 01:02:59                                   & 2017-05-30 01:13:37                                   &  637.251                                              & 17th St \\& Massachusetts Ave NW                      & 5th \\& K St NW                                       & Subscriber                                           \\\\\n",
       "\t  665458                                               & 2017-04-02 07:48:35                                   & 2017-04-02 08:19:03                                   & 1827.341                                              & Constitution Ave \\& 2nd St NW/DOL                    & M St \\& Pennsylvania Ave NW                          & Customer                                             \\\\\n",
       "\t 1481135                                               & 2017-06-10 08:36:28                                   & 2017-06-10 09:02:17                                   & 1549.427                                              & Henry Bacon Dr \\& Lincoln Memorial Circle NW         & Maine Ave \\& 7th St SW                               & Subscriber                                           \\\\\n",
       "\t 1148202                                               & 2017-05-14 07:18:18                                   & 2017-05-14 07:24:56                                   &  398.000                                              & 1st \\& K St SE                                       & Eastern Market Metro / Pennsylvania Ave \\& 7th St SE & Subscriber                                           \\\\\n",
       "\\end{tabular}\n"
      ],
      "text/markdown": [
       "\n",
       "| X | Start.Time | End.Time | Trip.Duration | Start.Station | End.Station | User.Type |\n",
       "|---|---|---|---|---|---|---|\n",
       "| 1621326                                             | 2017-06-21 08:36:34                                 | 2017-06-21 08:44:43                                 |  489.066                                            | 14th & Belmont St NW                                | 15th & K St NW                                      | Subscriber                                          |\n",
       "|  482740                                             | 2017-03-11 10:40:00                                 | 2017-03-11 10:46:00                                 |  402.549                                            | Yuma St & Tenley Circle NW                          | Connecticut Ave & Yuma St NW                        | Subscriber                                          |\n",
       "| 1330037                                             | 2017-05-30 01:02:59                                 | 2017-05-30 01:13:37                                 |  637.251                                            | 17th St & Massachusetts Ave NW                      | 5th & K St NW                                       | Subscriber                                          |\n",
       "|  665458                                             | 2017-04-02 07:48:35                                 | 2017-04-02 08:19:03                                 | 1827.341                                            | Constitution Ave & 2nd St NW/DOL                    | M St & Pennsylvania Ave NW                          | Customer                                            |\n",
       "| 1481135                                             | 2017-06-10 08:36:28                                 | 2017-06-10 09:02:17                                 | 1549.427                                            | Henry Bacon Dr & Lincoln Memorial Circle NW         | Maine Ave & 7th St SW                               | Subscriber                                          |\n",
       "| 1148202                                             | 2017-05-14 07:18:18                                 | 2017-05-14 07:24:56                                 |  398.000                                            | 1st & K St SE                                       | Eastern Market Metro / Pennsylvania Ave & 7th St SE | Subscriber                                          |\n",
       "\n"
      ],
      "text/plain": [
       "  X       Start.Time          End.Time            Trip.Duration\n",
       "1 1621326 2017-06-21 08:36:34 2017-06-21 08:44:43  489.066     \n",
       "2  482740 2017-03-11 10:40:00 2017-03-11 10:46:00  402.549     \n",
       "3 1330037 2017-05-30 01:02:59 2017-05-30 01:13:37  637.251     \n",
       "4  665458 2017-04-02 07:48:35 2017-04-02 08:19:03 1827.341     \n",
       "5 1481135 2017-06-10 08:36:28 2017-06-10 09:02:17 1549.427     \n",
       "6 1148202 2017-05-14 07:18:18 2017-05-14 07:24:56  398.000     \n",
       "  Start.Station                              \n",
       "1 14th & Belmont St NW                       \n",
       "2 Yuma St & Tenley Circle NW                 \n",
       "3 17th St & Massachusetts Ave NW             \n",
       "4 Constitution Ave & 2nd St NW/DOL           \n",
       "5 Henry Bacon Dr & Lincoln Memorial Circle NW\n",
       "6 1st & K St SE                              \n",
       "  End.Station                                         User.Type \n",
       "1 15th & K St NW                                      Subscriber\n",
       "2 Connecticut Ave & Yuma St NW                        Subscriber\n",
       "3 5th & K St NW                                       Subscriber\n",
       "4 M St & Pennsylvania Ave NW                          Customer  \n",
       "5 Maine Ave & 7th St SW                               Subscriber\n",
       "6 Eastern Market Metro / Pennsylvania Ave & 7th St SE Subscriber"
      ]
     },
     "metadata": {},
     "output_type": "display_data"
    },
    {
     "data": {
      "text/html": [
       "<table>\n",
       "<thead><tr><th></th><th scope=col>X</th><th scope=col>Start.Time</th><th scope=col>End.Time</th><th scope=col>Trip.Duration</th><th scope=col>Start.Station</th><th scope=col>End.Station</th><th scope=col>User.Type</th></tr></thead>\n",
       "<tbody>\n",
       "\t<tr><th scope=row>89046</th><td>1484340                                                                    </td><td>2017-06-10 10:58:09                                                        </td><td>2017-06-10 11:25:58                                                        </td><td>1669.700                                                                   </td><td>M St &amp; New Jersey Ave SE                                               </td><td><span style=white-space:pre-wrap>4th St &amp; Madison Dr NW         </span></td><td><span style=white-space:pre-wrap>Customer  </span>                         </td></tr>\n",
       "\t<tr><th scope=row>89047</th><td> 555788                                                                    </td><td>2017-03-22 18:46:00                                                        </td><td>2017-03-22 19:04:00                                                        </td><td>1082.789                                                                   </td><td><span style=white-space:pre-wrap>8th &amp; H St NW           </span>       </td><td><span style=white-space:pre-wrap>21st &amp; I St NW                 </span></td><td>Subscriber                                                                 </td></tr>\n",
       "\t<tr><th scope=row>89048</th><td> 739004                                                             </td><td>2017-04-09 04:00:22                                                 </td><td>2017-04-09 04:09:54                                                 </td><td> 571.879                                                            </td><td><span style=white-space:pre-wrap>Eckington Pl &amp; Q St NE  </span></td><td>Columbus Circle / Union Station                                     </td><td>Subscriber                                                          </td></tr>\n",
       "\t<tr><th scope=row>89049</th><td>1214907                                                                    </td><td>2017-05-19 09:00:53                                                        </td><td>2017-05-19 09:07:38                                                        </td><td> 404.152                                                                   </td><td><span style=white-space:pre-wrap>1st &amp; M St NE           </span>       </td><td><span style=white-space:pre-wrap>1st &amp; Rhode Island Ave NW      </span></td><td>Subscriber                                                                 </td></tr>\n",
       "\t<tr><th scope=row>89050</th><td>1419806                                                             </td><td>2017-06-06 04:27:33                                                 </td><td>2017-06-06 04:49:59                                                 </td><td>1345.911                                                            </td><td><span style=white-space:pre-wrap>10th &amp; Florida Ave NW   </span></td><td>Georgetown Harbor / 30th St NW                                      </td><td><span style=white-space:pre-wrap>Customer  </span>                  </td></tr>\n",
       "\t<tr><th scope=row>89051</th><td>    132                        </td><td>                               </td><td>                               </td><td>      NA                       </td><td>                               </td><td>                               </td><td>                               </td></tr>\n",
       "</tbody>\n",
       "</table>\n"
      ],
      "text/latex": [
       "\\begin{tabular}{r|lllllll}\n",
       "  & X & Start.Time & End.Time & Trip.Duration & Start.Station & End.Station & User.Type\\\\\n",
       "\\hline\n",
       "\t89046 & 1484340                           & 2017-06-10 10:58:09               & 2017-06-10 11:25:58               & 1669.700                          & M St \\& New Jersey Ave SE        & 4th St \\& Madison Dr NW          & Customer                         \\\\\n",
       "\t89047 &  555788                           & 2017-03-22 18:46:00               & 2017-03-22 19:04:00               & 1082.789                          & 8th \\& H St NW                   & 21st \\& I St NW                  & Subscriber                       \\\\\n",
       "\t89048 &  739004                         & 2017-04-09 04:00:22             & 2017-04-09 04:09:54             &  571.879                        & Eckington Pl \\& Q St NE        & Columbus Circle / Union Station & Subscriber                     \\\\\n",
       "\t89049 & 1214907                           & 2017-05-19 09:00:53               & 2017-05-19 09:07:38               &  404.152                          & 1st \\& M St NE                   & 1st \\& Rhode Island Ave NW       & Subscriber                       \\\\\n",
       "\t89050 & 1419806                         & 2017-06-06 04:27:33             & 2017-06-06 04:49:59             & 1345.911                        & 10th \\& Florida Ave NW         & Georgetown Harbor / 30th St NW  & Customer                       \\\\\n",
       "\t89051 &     132                         &                                 &                                 &       NA                        &                                 &                                 &                                \\\\\n",
       "\\end{tabular}\n"
      ],
      "text/markdown": [
       "\n",
       "| <!--/--> | X | Start.Time | End.Time | Trip.Duration | Start.Station | End.Station | User.Type |\n",
       "|---|---|---|---|---|---|---|---|\n",
       "| 89046 | 1484340                         | 2017-06-10 10:58:09             | 2017-06-10 11:25:58             | 1669.700                        | M St & New Jersey Ave SE        | 4th St & Madison Dr NW          | Customer                        |\n",
       "| 89047 |  555788                         | 2017-03-22 18:46:00             | 2017-03-22 19:04:00             | 1082.789                        | 8th & H St NW                   | 21st & I St NW                  | Subscriber                      |\n",
       "| 89048 |  739004                         | 2017-04-09 04:00:22             | 2017-04-09 04:09:54             |  571.879                        | Eckington Pl & Q St NE          | Columbus Circle / Union Station | Subscriber                      |\n",
       "| 89049 | 1214907                         | 2017-05-19 09:00:53             | 2017-05-19 09:07:38             |  404.152                        | 1st & M St NE                   | 1st & Rhode Island Ave NW       | Subscriber                      |\n",
       "| 89050 | 1419806                         | 2017-06-06 04:27:33             | 2017-06-06 04:49:59             | 1345.911                        | 10th & Florida Ave NW           | Georgetown Harbor / 30th St NW  | Customer                        |\n",
       "| 89051 |     132                         |                                 |                                 |       NA                        |                                 |                                 |                                 |\n",
       "\n"
      ],
      "text/plain": [
       "      X       Start.Time          End.Time            Trip.Duration\n",
       "89046 1484340 2017-06-10 10:58:09 2017-06-10 11:25:58 1669.700     \n",
       "89047  555788 2017-03-22 18:46:00 2017-03-22 19:04:00 1082.789     \n",
       "89048  739004 2017-04-09 04:00:22 2017-04-09 04:09:54  571.879     \n",
       "89049 1214907 2017-05-19 09:00:53 2017-05-19 09:07:38  404.152     \n",
       "89050 1419806 2017-06-06 04:27:33 2017-06-06 04:49:59 1345.911     \n",
       "89051     132                                               NA     \n",
       "      Start.Station            End.Station                     User.Type \n",
       "89046 M St & New Jersey Ave SE 4th St & Madison Dr NW          Customer  \n",
       "89047 8th & H St NW            21st & I St NW                  Subscriber\n",
       "89048 Eckington Pl & Q St NE   Columbus Circle / Union Station Subscriber\n",
       "89049 1st & M St NE            1st & Rhode Island Ave NW       Subscriber\n",
       "89050 10th & Florida Ave NW    Georgetown Harbor / 30th St NW  Customer  \n",
       "89051                                                                    "
      ]
     },
     "metadata": {},
     "output_type": "display_data"
    },
    {
     "name": "stdout",
     "output_type": "stream",
     "text": [
      "'data.frame':\t89051 obs. of  7 variables:\n",
      " $ X            : int  1621326 482740 1330037 665458 1481135 1148202 1594275 1601832 574182 327058 ...\n",
      " $ Start.Time   : Factor w/ 81223 levels \"\",\"2017-01-01 00:11:00\",..: 74753 19510 59964 26708 67716 50891 73381 73775 23142 13333 ...\n",
      " $ End.Time     : Factor w/ 81217 levels \"\",\"2017-01-01 00:14:00\",..: 74744 19473 59981 26732 67753 50918 73397 73775 23114 13350 ...\n",
      " $ Trip.Duration: num  489 403 637 1827 1549 ...\n",
      " $ Start.Station: Factor w/ 478 levels \"\",\"10th & E St NW\",..: 27 478 66 221 278 84 368 82 71 60 ...\n",
      " $ End.Station  : Factor w/ 479 levels \"\",\"10th & E St NW\",..: 47 219 144 312 315 239 162 376 51 308 ...\n",
      " $ User.Type    : Factor w/ 3 levels \"\",\"Customer\",..: 3 3 3 2 3 3 3 3 3 3 ...\n"
     ]
    },
    {
     "data": {
      "text/plain": [
       "       X                         Start.Time                   End.Time    \n",
       " Min.   :      7   2017-02-19 12:19:00:    6   2017-03-09 17:54:00:    7  \n",
       " 1st Qu.: 434587   2017-02-20 11:35:00:    6   2017-03-28 18:11:00:    7  \n",
       " Median : 872858   2017-02-24 17:46:00:    6   2017-01-13 17:48:00:    6  \n",
       " Mean   : 873881   2017-03-01 08:20:00:    6   2017-01-31 08:49:00:    6  \n",
       " 3rd Qu.:1313305   2017-03-02 08:39:00:    6   2017-02-13 18:09:00:    6  \n",
       " Max.   :1751392   2017-03-09 17:31:00:    6   2017-02-20 11:38:00:    6  \n",
       "                   (Other)            :89015   (Other)            :89013  \n",
       " Trip.Duration                                   Start.Station  \n",
       " Min.   :    60.3   Columbus Circle / Union Station     : 1700  \n",
       " 1st Qu.:   410.9   Lincoln Memorial                    : 1546  \n",
       " Median :   707.0   Jefferson Dr & 14th St SW           : 1488  \n",
       " Mean   :  1234.0   Massachusetts Ave & Dupont Circle NW: 1219  \n",
       " 3rd Qu.:  1233.2   Jefferson Memorial                  : 1068  \n",
       " Max.   :904591.4   15th & P St NW                      : 1040  \n",
       " NA's   :1          (Other)                             :80990  \n",
       "                                                End.Station   \n",
       " Columbus Circle / Union Station                      : 1767  \n",
       " Jefferson Dr & 14th St SW                            : 1603  \n",
       " Lincoln Memorial                                     : 1514  \n",
       " Massachusetts Ave & Dupont Circle NW                 : 1344  \n",
       " Smithsonian-National Mall / Jefferson Dr & 12th St SW: 1103  \n",
       " 15th & P St NW                                       : 1077  \n",
       " (Other)                                              :80643  \n",
       "      User.Type    \n",
       "           :    1  \n",
       " Customer  :23450  \n",
       " Subscriber:65600  \n",
       "                   \n",
       "                   \n",
       "                   \n",
       "                   "
      ]
     },
     "metadata": {},
     "output_type": "display_data"
    },
    {
     "data": {
      "text/html": [
       "2634.42892149254"
      ],
      "text/latex": [
       "2634.42892149254"
      ],
      "text/markdown": [
       "2634.42892149254"
      ],
      "text/plain": [
       "[1] 2634.429"
      ]
     },
     "metadata": {},
     "output_type": "display_data"
    },
    {
     "data": {
      "text/html": [
       "733.326013094512"
      ],
      "text/latex": [
       "733.326013094512"
      ],
      "text/markdown": [
       "733.326013094512"
      ],
      "text/plain": [
       "[1] 733.326"
      ]
     },
     "metadata": {},
     "output_type": "display_data"
    },
    {
     "data": {
      "text/html": [
       "<table>\n",
       "<thead><tr><th></th><th scope=col>avg_user</th><th scope=col>user_type</th></tr></thead>\n",
       "<tbody>\n",
       "\t<tr><th scope=row>avg_cust</th><td>2634.429  </td><td>Customer  </td></tr>\n",
       "\t<tr><th scope=row>avg_sub</th><td> 733.326  </td><td>Subscriber</td></tr>\n",
       "</tbody>\n",
       "</table>\n"
      ],
      "text/latex": [
       "\\begin{tabular}{r|ll}\n",
       "  & avg\\_user & user\\_type\\\\\n",
       "\\hline\n",
       "\tavg\\_cust & 2634.429   & Customer  \\\\\n",
       "\tavg\\_sub &  733.326   & Subscriber\\\\\n",
       "\\end{tabular}\n"
      ],
      "text/markdown": [
       "\n",
       "| <!--/--> | avg_user | user_type |\n",
       "|---|---|---|\n",
       "| avg_cust | 2634.429   | Customer   |\n",
       "| avg_sub |  733.326   | Subscriber |\n",
       "\n"
      ],
      "text/plain": [
       "         avg_user user_type \n",
       "avg_cust 2634.429 Customer  \n",
       "avg_sub   733.326 Subscriber"
      ]
     },
     "metadata": {},
     "output_type": "display_data"
    },
    {
     "data": {
      "image/png": "[encoded data removed]",
      "text/plain": [
       "plot without title"
      ]
     },
     "metadata": {},
     "output_type": "display_data"
    }
   ],
   "source": [
    "library(ggplot2)\n",
    "\n",
    "#Exploring the summaries, which includes the average trip duration\n",
    "head(wash)\n",
    "tail(wash)\n",
    "str(wash)\n",
    "summary(wash)\n",
    "\n",
    "#Creating a filter just for the Customer user type\n",
    "cust_filter <- wash$User.Type == \"Customer\"\n",
    "\n",
    "#Creating a data frame for the Washington data with only the Customer user type\n",
    "wash_cust <- wash[cust_filter,]\n",
    "\n",
    "#Creating a filter just for the Subscriber user type\n",
    "sub_filter <- wash$User.Type == \"Subscriber\"\n",
    "\n",
    "#Creating a data frame for the Washington data with only the Subscriber user type\n",
    "wash_sub <- wash[sub_filter,]\n",
    "\n",
    "#Creating a function for the mean of the trip duration\n",
    "avg_trip <- function(x){\n",
    "  sum(x) / length(x)\n",
    "}\n",
    "\n",
    "#Finding average of Washington Customer user type trip duration\n",
    "avg_trip(wash_cust$Trip.Duration)\n",
    "\n",
    "#Finding average of Washington Subscriber user type trip duration\n",
    "avg_trip(wash_sub$Trip.Duration)\n",
    "\n",
    "#Creating a mean for trip duration for Customer user type\n",
    "avg_cust <- mean(wash_cust$Trip.Duration)\n",
    "\n",
    "#Creating a mean for trip duration for Subscriber user type\n",
    "avg_sub <- mean(wash_sub$Trip.Duration)\n",
    "\n",
    "#Creating a data with two average values\n",
    "avg_user <- rbind(avg_cust, avg_sub)\n",
    "\n",
    "#Creating a user type value\n",
    "user_type <- rbind(\"Customer\", \"Subscriber\")\n",
    "\n",
    "#Creating a data frame\n",
    "avg_trip_user <- data.frame(avg_user, user_type)\n",
    "avg_trip_user\n",
    "\n",
    "#Creating a bar graph for Washington trip duration by user type.\n",
    "ggplot(data = avg_trip_user, aes(x = user_type, y = avg_user)) +\n",
    "  geom_col(fill = 'blue', color = 'black') +\n",
    "  ggtitle(\"Average Trip Duration by User Type\") +\n",
    "  labs(x = \"User Type\", y = \"Average Trip Duration in Seconds\")"
   ]
  },
  {
   "cell_type": "code",
   "execution_count": null,
   "metadata": {},
   "outputs": [],
   "source": []
  },
  {
   "cell_type": "code",
   "execution_count": null,
   "metadata": {},
   "outputs": [],
   "source": []
  },
  {
   "cell_type": "markdown",
   "metadata": {},
   "source": [
    "The average of the Washington trip duration based on Customer user type is 2635.14 seconds. The average of the Washington trip duration based on Subscriber user type is 735.75 seconds. We could see that there is a significant difference of 1899.39 seconds between the mean trip duration of Customers and Subscribers."
   ]
  },
  {
   "cell_type": "markdown",
   "metadata": {},
   "source": [
    "\n",
    "## Finishing Up\n",
    "\n",
    "> Congratulations!  You have reached the end of the Explore Bikeshare Data Project. You should be very proud of all you have accomplished!\n",
    "\n",
    "> **Tip**: Once you are satisfied with your work here, check over your report to make sure that it is satisfies all the areas of the [rubric](https://review.udacity.com/#!/rubrics/2508/view). \n",
    "\n",
    "\n",
    "## Directions to Submit\n",
    "\n",
    "> Before you submit your project, you need to create a .html or .pdf version of this notebook in the workspace here. To do that, run the code cell below. If it worked correctly, you should get a return code of 0, and you should see the generated .html file in the workspace directory (click on the orange Jupyter icon in the upper left).\n",
    "\n",
    "> Alternatively, you can download this report as .html via the **File** > **Download as** submenu, and then manually upload it into the workspace directory by clicking on the orange Jupyter icon in the upper left, then using the Upload button.\n",
    "\n",
    "> Once you've done this, you can submit your project by clicking on the \"Submit Project\" button in the lower right here. This will create and submit a zip file with this .ipynb doc and the .html or .pdf version you created. Congratulations!"
   ]
  },
  {
   "cell_type": "code",
   "execution_count": 1,
   "metadata": {},
   "outputs": [],
   "source": [
    "system('python -m nbconvert Explore_bikeshare_data.ipynb')"
   ]
  },
  {
   "cell_type": "code",
   "execution_count": null,
   "metadata": {},
   "outputs": [],
   "source": []
  }
 ],
 "metadata": {
  "kernelspec": {
   "display_name": "R",
   "language": "R",
   "name": "ir"
  },
  "language_info": {
   "codemirror_mode": "r",
   "file_extension": ".r",
   "mimetype": "text/x-r-source",
   "name": "R",
   "pygments_lexer": "r",
   "version": "3.5.1"
  }
 },
 "nbformat": 4,
 "nbformat_minor": 2
}
